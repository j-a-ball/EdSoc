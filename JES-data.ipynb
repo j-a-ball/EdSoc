{
 "cells": [
  {
   "cell_type": "code",
   "execution_count": 1,
   "id": "2723d692-a1d0-417f-8adb-075dd1519fdc",
   "metadata": {},
   "outputs": [],
   "source": [
    "from transformers import AutoTokenizer\n",
    "import matplotlib.pyplot as plt\n",
    "import numpy as np\n",
    "import json\n",
    "import re\n",
    "import os"
   ]
  },
  {
   "cell_type": "code",
   "execution_count": 2,
   "id": "1822d80d-0078-465e-aaeb-03ab954b7064",
   "metadata": {},
   "outputs": [],
   "source": [
    "path = \"jes-txts\""
   ]
  },
  {
   "cell_type": "code",
   "execution_count": 3,
   "id": "075889d4-3305-40d9-9de1-2fbd8c312a46",
   "metadata": {},
   "outputs": [
    {
     "name": "stdout",
     "output_type": "stream",
     "text": [
      "Number of files: 2158\n"
     ]
    }
   ],
   "source": [
    "for dirpath, dirnames, filenames in os.walk(path):\n",
    "    fnames = [f for f in filenames if f.endswith(\".txt\")]\n",
    "print(f\"Number of files: {len(fnames)}\")"
   ]
  },
  {
   "cell_type": "markdown",
   "id": "39c6ecf7",
   "metadata": {},
   "source": [
    "### Remove JSTOR copy:"
   ]
  },
  {
   "cell_type": "code",
   "execution_count": 4,
   "id": "5c367b6b",
   "metadata": {},
   "outputs": [],
   "source": [
    "for f in fnames:\n",
    "    with open(os.path.join(path, f), \"r\") as infile:\n",
    "        pgs = infile.read().split(\"<newpage>\")\n",
    "    first_pg = pgs[0]\n",
    "    if re.search(\"jstor\", first_pg, re.I | re.MULTILINE):\n",
    "        # lookahead to American Sociological Association, which precedes JSTOR terms. Remove terms and everything after\n",
    "       edit = re.sub(\"(?=Stable URL).*\", \"\", first_pg, flags=re.I | re.DOTALL | re.MULTILINE)\n",
    "    pgs = [edit] + pgs[1:]\n",
    "    # Overwrite the file\n",
    "    with open(os.path.join(path, f), \"w\") as outfile:\n",
    "        outfile.write(\"<newpage>\".join(pgs))"
   ]
  },
  {
   "cell_type": "markdown",
   "id": "44295819-04ed-4959-94cd-604d3080f81a",
   "metadata": {},
   "source": [
    "## Average article length in pages:"
   ]
  },
  {
   "cell_type": "code",
   "execution_count": 5,
   "id": "3d5732f2-435f-4b14-90ed-fd7cb4197d6a",
   "metadata": {},
   "outputs": [
    {
     "name": "stdout",
     "output_type": "stream",
     "text": [
      "Mean: 8.716867469879517 | Std: 3.4834446285420997 | Max: 27 | Min: 2\n"
     ]
    },
    {
     "data": {
      "text/plain": [
       "(array([169., 432., 800., 346., 280.,  65.,  46.,  13.,   3.,   4.]),\n",
       " array([ 2. ,  4.5,  7. ,  9.5, 12. , 14.5, 17. , 19.5, 22. , 24.5, 27. ]),\n",
       " <BarContainer object of 10 artists>)"
      ]
     },
     "execution_count": 5,
     "metadata": {},
     "output_type": "execute_result"
    },
    {
     "data": {
      "image/png": "[encoded data removed]",
      "text/plain": [
       "<Figure size 640x480 with 1 Axes>"
      ]
     },
     "metadata": {},
     "output_type": "display_data"
    }
   ],
   "source": [
    "pdf_lens = []\n",
    "for f in fnames:\n",
    "    with open(os.path.join(path, f), \"r\") as infile:\n",
    "        pgs = infile.read().split(\"<newpage>\")\n",
    "    pdf_lens.append(len(pgs))\n",
    "print(f\"Mean: {np.mean(pdf_lens)} | Std: {np.std(pdf_lens)} | Max: {np.max(pdf_lens)} | Min: {np.min(pdf_lens)}\")\n",
    "plt.hist(pdf_lens)"
   ]
  },
  {
   "cell_type": "markdown",
   "id": "ef656fe0-8f9d-4612-9357-790fcaeeb643",
   "metadata": {},
   "source": [
    "## Average page length in tokens:"
   ]
  },
  {
   "cell_type": "code",
   "execution_count": 6,
   "id": "ea193123-3c48-45f8-9eb5-f0302384ec94",
   "metadata": {},
   "outputs": [],
   "source": [
    "# go one dir up\n",
    "llama_dir = os.path.join(os.getcwd(), \"..\", \"codellama\", \"CodeLlama-7b-Instruct-hf\")\n",
    "tokenizer = AutoTokenizer.from_pretrained(llama_dir, local_files_only=True)"
   ]
  },
  {
   "cell_type": "code",
   "execution_count": 7,
   "id": "2c7d82d0-7370-4adc-b794-a3976e6f610e",
   "metadata": {},
   "outputs": [
    {
     "name": "stdout",
     "output_type": "stream",
     "text": [
      "Mean: 546.4041784062516 | Std: 196.92393102182686 | Max: 2150 | Min: 22\n"
     ]
    },
    {
     "data": {
      "text/plain": [
       "(array([2.2910e+03, 7.2900e+02, 1.1254e+04, 4.2890e+03, 1.9900e+02,\n",
       "        3.9000e+01, 6.0000e+00, 2.0000e+00, 0.0000e+00, 2.0000e+00]),\n",
       " array([  22. ,  234.8,  447.6,  660.4,  873.2, 1086. , 1298.8, 1511.6,\n",
       "        1724.4, 1937.2, 2150. ]),\n",
       " <BarContainer object of 10 artists>)"
      ]
     },
     "execution_count": 7,
     "metadata": {},
     "output_type": "execute_result"
    },
    {
     "data": {
      "image/png": "[encoded data removed]",
      "text/plain": [
       "<Figure size 640x480 with 1 Axes>"
      ]
     },
     "metadata": {},
     "output_type": "display_data"
    }
   ],
   "source": [
    "pg_lens = []\n",
    "for f in fnames:\n",
    "    with open(os.path.join(path, f), \"r\") as infile:\n",
    "        pgs = infile.read().split(\"<newpage>\")\n",
    "        for pg in pgs:\n",
    "            pg_lens.append(len(tokenizer.tokenize(pg)))\n",
    "print(f\"Mean: {np.mean(pg_lens)} | Std: {np.std(pg_lens)} | Max: {np.max(pg_lens)} | Min: {np.min(pg_lens)}\")\n",
    "plt.hist(pg_lens)"
   ]
  },
  {
   "cell_type": "markdown",
   "id": "82851e49",
   "metadata": {},
   "source": [
    "LLaMA2-Code has a functional context length of 16k tokens."
   ]
  },
  {
   "cell_type": "markdown",
   "id": "02d476e7",
   "metadata": {},
   "source": [
    "## Prompt Engineering"
   ]
  },
  {
   "cell_type": "code",
   "execution_count": 8,
   "id": "5de8d3fa",
   "metadata": {},
   "outputs": [],
   "source": [
    "p1 = \"\"\"\n",
    "\n",
    "### Example of how to code a Sociology of Education article on the basis of 12 selected categories, then store the results in JSON.\n",
    "# JSON scheme: {\"quantitative\": bool, \"qualitative\": bool, \"primary/secondary\": bool, \"tertiary\": bool, \"inequality\": bool, \"nonstructural\": bool, \"culture\": bool, \"school\": bool, \"state\": bool, \"labor\": bool, \"comparative\": bool, \"methods\": bool}\n",
    "example_article = '''The \"Collective Mind\" at\n",
    " Work: A Decade in the Life of\n",
    " U.S. Sociology of Education\n",
    " Sociology of Education\n",
    " 86(4) 273-279\n",
    " © American Sociological Association 20 1 3\n",
    " DOI: 10.1177/0038040713503304\n",
    " http://soe.sagepub.com\n",
    " §SAGE\n",
    " Steven Brint\n",
    "\n",
    "             METHOD\n",
    " Between 1999 and 2008, 168 articles appeared in\n",
    " Sociology of Education , between 3 and 5 articles\n",
    " in each of four issues during the year. (In 2000,\n",
    " the journal published a special extra issue, which\n",
    " included essays about current thinking about key\n",
    " issues in the subdiscipline.) I coded each of the\n",
    " articles that met my criteria for inclusion in four\n",
    " ways. First, I classified the articles by methodol-\n",
    " ogy: either quantitative or qualitative. In a few\n",
    " cases, both types of methodology were equally\n",
    " prominent. I noted these articles separately. Sec-\n",
    " ond, I classified the level of education addressed\n",
    " in the article: primary/secondary or tertiary. In\n",
    " some cases, articles concerned both primary/sec-\n",
    " ondary and tertiary education. In these cases, I\n",
    " did not classify the articles. Third, I classified\n",
    " the articles into one of eight major topical catego-\n",
    " ries: (1) inequality, (2) \"nonstructural\" sources of\n",
    " achievement, (3) culture/ideology, (4) school\n",
    " organization/school effects, (5) state/politics, (6)\n",
    " labor market/labor market transitions, (7) compar-\n",
    " ative/historical analysis, and (8) methods. Finally,\n",
    " I classified articles into a more fine-grained topi-\n",
    " cal scheme of 22 categories in all. I will concen-\n",
    " trate my discussion of content on the distribution\n",
    " of articles into the eight major topical categories\n",
    " listed above. Therefore, let me elaborate the con-\n",
    " ventions that I used in coding articles into these\n",
    " categories.\n",
    " I classified the articles on the basis of the pri-\n",
    " mary emphasis in the article. Where possible, I\n",
    " tried to classify under one category only. I classi-\n",
    " fied only a handful of articles under more than one\n",
    " category, because I could not determine their pri-\n",
    " mary emphasis. I made a distinction in coding\n",
    " between the major structural bases of inequality\n",
    " in American society (i.e., social class, race/ethnic-\n",
    " ity, immigration status, and gender) and social\n",
    " structures and behaviors that vary within these\n",
    " broad strata (such as family structure or student\n",
    " work effort). I reserved the category \"nonstruc-\n",
    " tural sources of achievement\" for articles that\n",
    " took up these latter sources of variation in educa-\n",
    " tional outcomes. Thus, articles about the effects of\n",
    " work effort, drinking behavior, or obesity on stu-\n",
    " dent achievement were coded into this category,\n",
    " but articles about the effects of wealth or immigra-\n",
    " tion status on educational attainment were coded\n",
    " into the \"inequality and schools\" category.\n",
    " In this coding scheme, \"culture/ideology\"\n",
    " includes articles both on cultural influences on\n",
    " the organization of schooling and the influences\n",
    " of the organization of schooling on culture. An\n",
    " example of the former would be an article on the\n",
    " interpersonal strategies used by high-achieving\n",
    " students to mask their school achievements in set-\n",
    " tings that belittle intellectuality. An example of\n",
    " the latter would be an article on the effects of edu-\n",
    " cational attainment on attitudes about public\n",
    " affairs.\n",
    " I will not make strong claims for the accuracy\n",
    " of my coding. In some cases, other equally expert\n",
    " coders would likely have made different coding\n",
    " choices. However, many of the articles were not\n",
    " difficult to code, and I believe the measurement\n",
    " error due to coding mistakes is relatively minor.'''\n",
    "# The example article describes a method for qualitative coding, so \"quantitative\" is False and \"qualitative\" is True. \"primary/secondary\" and \"tertiary\" are both False, because the article does not focus on a specific level of education. \"methods\" is True, because the article is mainly a review of methods used in the field. \"methods\" is the article's primary designation, so all 7 remaining categories must be False.\n",
    "example_json = {\"quantitative\": False, \"qualitative\": True, \"primary/secondary\": False, \"tertiary\": False, \"inequality\": False, \"nonstructural\": False, \"culture\": False, \"school\": False, \"state\": False, \"labor\": False, \"comparative\": False, \"methods\": True}\n",
    " \n",
    "### Code a new article using the same method.\n",
    "# JSON scheme: {\"quantitative\": bool, \"qualitative\": bool, \"primary/secondary\": bool, \"tertiary\": bool, \"inequality\": bool, \"nonstructural\": bool, \"culture\": bool, \"school\": bool, \"state\": bool, \"labor\": bool, \"comparative\": bool, \"methods\": bool}  \n",
    "new_article = '''\"\"\"\n"
   ]
  },
  {
   "cell_type": "code",
   "execution_count": 9,
   "id": "57f61024",
   "metadata": {},
   "outputs": [],
   "source": [
    "p2 = \"\"\"''' \n",
    "# Return only JSON with correct categorical codes based on the new article. \n",
    "new_json = \"\"\""
   ]
  },
  {
   "cell_type": "markdown",
   "id": "837c7918",
   "metadata": {},
   "source": [
    "### Average prompt length in tokens:"
   ]
  },
  {
   "cell_type": "code",
   "execution_count": 10,
   "id": "b4170e4c",
   "metadata": {},
   "outputs": [
    {
     "name": "stdout",
     "output_type": "stream",
     "text": [
      "Prompt length with 1 page(s):\n",
      "Mean: 1440.6334569045412 | Std: 14.791273515211717 | Max: 1488 | Min: 1400\n",
      "Prompt length with 2 page(s):\n",
      "Mean: 2101.539388322521 | Std: 89.99737961377521 | Max: 2474 | Min: 1669\n",
      "Prompt length with 3 page(s):\n",
      "Mean: 2805.147358665431 | Std: 174.28568253894252 | Max: 3443 | Min: 1729\n",
      "Prompt length with 4 page(s):\n",
      "Mean: 3487.0695088044486 | Std: 287.72195733544146 | Max: 4466 | Min: 1729\n",
      "Prompt length with 5 page(s):\n",
      "Mean: 4129.262743280816 | Std: 440.5252436355358 | Max: 6084 | Min: 1729\n",
      "Prompt length with 6 page(s):\n",
      "Mean: 4702.875347544023 | Std: 637.008696531791 | Max: 6821 | Min: 1729\n"
     ]
    }
   ],
   "source": [
    "# runs for a moment\n",
    "for page_num in range(1, 7):\n",
    "    print(f\"Prompt length with {page_num} page(s):\")\n",
    "    prompt_lens = []\n",
    "    for f in fnames:\n",
    "        with open(os.path.join(path, f), \"r\") as infile:\n",
    "            pgs = infile.read().split(\"<newpage>\")\n",
    "        input = '<newpage json = {\"quantitative\": bool, \"qualitative\": bool, \"primary/secondary\": bool, \"tertiary\": bool, \"inequality\": bool, \"nonstructural\": bool, \"culture\": bool, \"school\": bool, \"state\": bool, \"labor\": bool, \"comparative\": bool, \"methods\": bool}>'.join(\n",
    "            pgs[:page_num])\n",
    "        prompt = p1 + input + p2\n",
    "        prompt_lens.append(len(tokenizer.tokenize(prompt)))\n",
    "    print(f\"Mean: {np.mean(prompt_lens)} | Std: {np.std(prompt_lens)} | Max: {np.max(prompt_lens)} | Min: {np.min(prompt_lens)}\")"
   ]
  },
  {
   "cell_type": "markdown",
   "id": "f86ad88d",
   "metadata": {},
   "source": [
    "### Correct JSON response length in tokens:"
   ]
  },
  {
   "cell_type": "code",
   "execution_count": 11,
   "id": "7be2269e",
   "metadata": {},
   "outputs": [
    {
     "name": "stdout",
     "output_type": "stream",
     "text": [
      "Length of max expected JSON output in tokens: 74\n"
     ]
    }
   ],
   "source": [
    "all_false = json.dumps({\"quantitative\": False, \"qualitative\": False, \"primary/secondary\": False, \"tertiary\": False, \"inequality\": False, \"nonstructural\": False, \"culture\": False, \"school\": False, \"state\": False, \"labor\": False, \"comparative\": False, \"methods\": False})\n",
    "print(f\"Length of max expected JSON output in tokens: {len(tokenizer.tokenize(all_false))}\")"
   ]
  }
 ],
 "metadata": {
  "kernelspec": {
   "display_name": "nlu",
   "language": "python",
   "name": "python3"
  },
  "language_info": {
   "codemirror_mode": {
    "name": "ipython",
    "version": 3
   },
   "file_extension": ".py",
   "mimetype": "text/x-python",
   "name": "python",
   "nbconvert_exporter": "python",
   "pygments_lexer": "ipython3",
   "version": "3.11.5"
  }
 },
 "nbformat": 4,
 "nbformat_minor": 5
}
