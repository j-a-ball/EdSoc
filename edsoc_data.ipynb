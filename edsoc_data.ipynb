{
 "cells": [
  {
   "cell_type": "code",
   "execution_count": 1,
   "id": "2723d692-a1d0-417f-8adb-075dd1519fdc",
   "metadata": {},
   "outputs": [],
   "source": [
    "from transformers import AutoTokenizer\n",
    "import matplotlib.pyplot as plt\n",
    "import numpy as np\n",
    "import json\n",
    "import os"
   ]
  },
  {
   "cell_type": "code",
   "execution_count": 2,
   "id": "1822d80d-0078-465e-aaeb-03ab954b7064",
   "metadata": {},
   "outputs": [],
   "source": [
    "path = \"txts\""
   ]
  },
  {
   "cell_type": "code",
   "execution_count": 3,
   "id": "075889d4-3305-40d9-9de1-2fbd8c312a46",
   "metadata": {},
   "outputs": [
    {
     "name": "stdout",
     "output_type": "stream",
     "text": [
      "Number of files: 1144\n"
     ]
    }
   ],
   "source": [
    "for dirpath, dirnames, filenames in os.walk(path):\n",
    "    fnames = [f for f in filenames if f.endswith(\".txt\")]\n",
    "print(f\"Number of files: {len(fnames)}\")"
   ]
  },
  {
   "cell_type": "markdown",
   "id": "44295819-04ed-4959-94cd-604d3080f81a",
   "metadata": {},
   "source": [
    "## Average article length in pages:"
   ]
  },
  {
   "cell_type": "code",
   "execution_count": 4,
   "id": "3d5732f2-435f-4b14-90ed-fd7cb4197d6a",
   "metadata": {},
   "outputs": [
    {
     "name": "stdout",
     "output_type": "stream",
     "text": [
      "Mean: 18.262237762237763 | Std: 6.434264746230761 | Max: 46 | Min: 2\n"
     ]
    },
    {
     "data": {
      "text/plain": [
       "(array([ 43.,  82., 237., 306., 275., 142.,  35.,  16.,   4.,   4.]),\n",
       " array([ 2. ,  6.4, 10.8, 15.2, 19.6, 24. , 28.4, 32.8, 37.2, 41.6, 46. ]),\n",
       " <BarContainer object of 10 artists>)"
      ]
     },
     "execution_count": 4,
     "metadata": {},
     "output_type": "execute_result"
    },
    {
     "data": {
      "image/png": "[encoded data removed]",
      "text/plain": [
       "<Figure size 640x480 with 1 Axes>"
      ]
     },
     "metadata": {},
     "output_type": "display_data"
    }
   ],
   "source": [
    "pdf_lens = []\n",
    "for f in fnames:\n",
    "    with open(os.path.join(path, f), \"r\") as infile:\n",
    "        pgs = infile.read().split(\"<sep>\")\n",
    "    pdf_lens.append(len(pgs))\n",
    "print(f\"Mean: {np.mean(pdf_lens)} | Std: {np.std(pdf_lens)} | Max: {np.max(pdf_lens)} | Min: {np.min(pdf_lens)}\")\n",
    "plt.hist(pdf_lens)"
   ]
  },
  {
   "cell_type": "markdown",
   "id": "ef656fe0-8f9d-4612-9357-790fcaeeb643",
   "metadata": {},
   "source": [
    "## Average page length in tokens:"
   ]
  },
  {
   "cell_type": "code",
   "execution_count": 5,
   "id": "ea193123-3c48-45f8-9eb5-f0302384ec94",
   "metadata": {},
   "outputs": [],
   "source": [
    "llama_dir = \"/Users/jball/Work/codellama/CodeLlama-7b-Instruct-hf\"\n",
    "tokenizer = AutoTokenizer.from_pretrained(llama_dir, local_files_only=True)"
   ]
  },
  {
   "cell_type": "code",
   "execution_count": 6,
   "id": "2c7d82d0-7370-4adc-b794-a3976e6f610e",
   "metadata": {},
   "outputs": [],
   "source": [
    "pg_lens = []\n",
    "for f in fnames:\n",
    "    with open(os.path.join(path, f), \"r\") as infile:\n",
    "        pgs = infile.read().split(\"<sep>\")\n",
    "        for pg in pgs:\n",
    "            pg_lens.append(len(tokenizer.tokenize(pg)))\n",
    "print(f\"Mean: {np.mean(pg_lens)} | Std: {np.std(pg_lens)} | Max: {np.max(pg_lens)} | Min: {np.min(pg_lens)}\")\n",
    "plt.hist(pg_lens)"
   ]
  },
  {
   "cell_type": "markdown",
   "id": "82851e49",
   "metadata": {},
   "source": [
    "LLaMA2-Code has a functional context length of 9996 tokens. Can have it read the first 3 pgs of each article."
   ]
  },
  {
   "cell_type": "markdown",
   "id": "02d476e7",
   "metadata": {},
   "source": [
    "## Prompt Engineering"
   ]
  },
  {
   "cell_type": "code",
   "execution_count": null,
   "id": "82bd3bf7",
   "metadata": {},
   "outputs": [
    {
     "name": "stdout",
     "output_type": "stream",
     "text": [
      "Length of prompt in tokens: 1228\n"
     ]
    }
   ],
   "source": [
    "input = \"\"\n",
    "prompt = \"\"\"### Here is an example of how to code a research article, then store the boolean results as JSON.\n",
    "            # Categories: quantitative, qualitative, primary/secondary, tertiary, inequality, nonstructural, culture, school, state, labor, comparative, methods\n",
    "            # Article: '''The \"Collective Mind\" at\n",
    " Work: A Decade in the Life of\n",
    " U.S. Sociology of Education\n",
    " Sociology of Education\n",
    " 86(4) 273-279\n",
    " © American Sociological Association 20 1 3\n",
    " DOI: 10.1177/0038040713503304\n",
    " http://soe.sagepub.com\n",
    " §SAGE\n",
    " Steven Brint\n",
    "\n",
    "             METHOD\n",
    " Between 1999 and 2008, 168 articles appeared in\n",
    " Sociology of Education , between 3 and 5 articles\n",
    " in each of four issues during the year. (In 2000,\n",
    " the journal published a special extra issue, which\n",
    " included essays about current thinking about key\n",
    " issues in the subdiscipline.) I coded each of the\n",
    " articles that met my criteria for inclusion in four\n",
    " ways. First, I classified the articles by methodol-\n",
    " ogy: either quantitative or qualitative. In a few\n",
    " cases, both types of methodology were equally\n",
    " prominent. I noted these articles separately. Sec-\n",
    " ond, I classified the level of education addressed\n",
    " in the article: primary/secondary or tertiary. In\n",
    " some cases, articles concerned both primary/sec-\n",
    " ondary and tertiary education. In these cases, I\n",
    " did not classify the articles. Third, I classified\n",
    " the articles into one of eight major topical catego-\n",
    " ries: (1) inequality, (2) \"nonstructural\" sources of\n",
    " achievement, (3) culture/ideology, (4) school\n",
    " organization/school effects, (5) state/politics, (6)\n",
    " labor market/labor market transitions, (7) compar-\n",
    " ative/historical analysis, and (8) methods. Finally,\n",
    " I classified articles into a more fine-grained topi-\n",
    " cal scheme of 22 categories in all. I will concen-\n",
    " trate my discussion of content on the distribution\n",
    " of articles into the eight major topical categories\n",
    " listed above. Therefore, let me elaborate the con-\n",
    " ventions that I used in coding articles into these\n",
    " categories.\n",
    " I classified the articles on the basis of the pri-\n",
    " mary emphasis in the article. Where possible, I\n",
    " tried to classify under one category only. I classi-\n",
    " fied only a handful of articles under more than one\n",
    " category, because I could not determine their pri-\n",
    " mary emphasis. I made a distinction in coding\n",
    " between the major structural bases of inequality\n",
    " in American society (i.e., social class, race/ethnic-\n",
    " ity, immigration status, and gender) and social\n",
    " structures and behaviors that vary within these\n",
    " broad strata (such as family structure or student\n",
    " work effort). I reserved the category \"nonstruc-\n",
    " tural sources of achievement\" for articles that\n",
    " took up these latter sources of variation in educa-\n",
    " tional outcomes. Thus, articles about the effects of\n",
    " work effort, drinking behavior, or obesity on stu-\n",
    " dent achievement were coded into this category,\n",
    " but articles about the effects of wealth or immigra-\n",
    " tion status on educational attainment were coded\n",
    " into the \"inequality and schools\" category.\n",
    " In this coding scheme, \"culture/ideology\"\n",
    " includes articles both on cultural influences on\n",
    " the organization of schooling and the influences\n",
    " of the organization of schooling on culture. An\n",
    " example of the former would be an article on the\n",
    " interpersonal strategies used by high-achieving\n",
    " students to mask their school achievements in set-\n",
    " tings that belittle intellectuality. An example of\n",
    " the latter would be an article on the effects of edu-\n",
    " cational attainment on attitudes about public\n",
    " affairs.\n",
    " I will not make strong claims for the accuracy\n",
    " of my coding. In some cases, other equally expert\n",
    " coders would likely have made different coding\n",
    " choices. However, many of the articles were not\n",
    " difficult to code, and I believe the measurement\n",
    " error due to coding mistakes is relatively minor.'''\n",
    "            json = {\"quantitative\": False, \"qualitative\": True, \"primary/secondary\": False, \"tertiary\": False, \"inequality\": False, \"nonstructural\": False, \"culture\": False, \"school\": False, \"state\": False, \"labor\": False, \"comparative\": False, \"methods\": True}```\n",
    "            ### This article qualitatively codes articles, so qualitative is True and quantitative is False. \"primary/secondary\" and \"tertiary\" are both False, because the article does not focus on a specific level of education. \"methods\" is True, because the article is mainly a review of methods used in the field. \"methods\" is the article's primary designation, so all seven remaining categories must be False.\n",
    "            ### Now, code a new article using the same methodology.\n",
    "            # Categories: quantitative, qualitative, primary/secondary, tertiary, inequality, nonstructural, culture, school, state, labor, comparative, methods\n",
    "            # Article: '''\"\"\" + input + \"\"\"'''\n",
    "            json = \"\"\"\n",
    "print(f\"Length of prompt in tokens: {len(tokenizer.tokenize(prompt))}\")"
   ]
  }
 ],
 "metadata": {
  "kernelspec": {
   "display_name": "nlu",
   "language": "python",
   "name": "python3"
  },
  "language_info": {
   "codemirror_mode": {
    "name": "ipython",
    "version": 3
   },
   "file_extension": ".py",
   "mimetype": "text/x-python",
   "name": "python",
   "nbconvert_exporter": "python",
   "pygments_lexer": "ipython3",
   "version": "3.11.5"
  }
 },
 "nbformat": 4,
 "nbformat_minor": 5
}
