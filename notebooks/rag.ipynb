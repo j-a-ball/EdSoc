{
 "cells": [
  {
   "cell_type": "code",
   "execution_count": 1,
   "metadata": {},
   "outputs": [],
   "source": [
    "from langchain.embeddings import SentenceTransformerEmbeddings\n",
    "from langchain.vectorstores import Chroma\n",
    "import chromadb\n",
    "import torch \n",
    "import random\n",
    "import json\n",
    "import time"
   ]
  },
  {
   "cell_type": "code",
   "execution_count": null,
   "metadata": {},
   "outputs": [],
   "source": [
    "# Set random seed \n",
    "random.seed(42)\n",
    "torch.manual_seed(42)"
   ]
  },
  {
   "cell_type": "code",
   "execution_count": 2,
   "metadata": {},
   "outputs": [],
   "source": [
    "model_name = \"Muennighoff/SGPT-125M-weightedmean-nli-bitfit\"\n",
    "model_kwargs = {\"device\": \"cpu\"}\n",
    "encode_kwargs = {\"normalize_embeddings\": True}\n",
    "embedding = SentenceTransformerEmbeddings(\n",
    "    model_name=model_name,\n",
    "    model_kwargs=model_kwargs,\n",
    "    encode_kwargs=encode_kwargs\n",
    ")"
   ]
  },
  {
   "cell_type": "markdown",
   "metadata": {},
   "source": [
    "# Manually labeled examples for RAG"
   ]
  },
  {
   "cell_type": "markdown",
   "metadata": {},
   "source": [
    "Get manually labeled examples:"
   ]
  },
  {
   "cell_type": "code",
   "execution_count": 3,
   "metadata": {},
   "outputs": [],
   "source": [
    "with open(\"../prompts/examples/manualD.json\", \"r\") as infile:\n",
    "    manualD = json.load(infile)"
   ]
  },
  {
   "cell_type": "code",
   "execution_count": 4,
   "metadata": {},
   "outputs": [],
   "source": [
    "texts = []\n",
    "metadatas = []\n",
    "for example in manualD.items():\n",
    "    texts.append(str(example[1][\"input\"]))\n",
    "    metadatas.append(example[1])"
   ]
  },
  {
   "cell_type": "code",
   "execution_count": 5,
   "metadata": {},
   "outputs": [
    {
     "name": "stdout",
     "output_type": "stream",
     "text": [
      "{\"id\": \"EJ353123\", \"title\": \"Social Class Differences in Family-School Relationships: The Importance of Cultural Capital.\", \"author\": [\"Lareau, Annette\"], \"description\": \"Summarizes a qualitative study of family/school relationships in White working class and middle class areas. Concludes that schools have standardized views of the proper role of parents in schooling. Suggests that the concept of cultural capital is useful to understand social class differences in children's school experiences. (Author/RKM)\", \"subject\": [\"Cultural Differences\", \"Educational Research\", \"Elementary Education\", \"Family (Sociological Unit)\", \"Family School Relationship\", \"Middle Class\", \"Parent School Relationship\", \"Social Attitudes\", \"Social Class\", \"Social Differences\", \"Social Science Research\", \"Social Sciences\", \"Sociology\"], \"publicationtype\": [\"Journal Articles\", \"Reports - Research\"], \"publicationdateyear\": 1987, \"language\": [\"English\"], \"peerreviewed\": \"T\"}\n"
     ]
    }
   ],
   "source": [
    "print(texts[0])"
   ]
  },
  {
   "cell_type": "code",
   "execution_count": 6,
   "metadata": {},
   "outputs": [
    {
     "name": "stdout",
     "output_type": "stream",
     "text": [
      "CPU times: user 607 ms, sys: 306 ms, total: 913 ms\n",
      "Wall time: 434 ms\n"
     ]
    }
   ],
   "source": [
    "%%time\n",
    "vectordb = Chroma.from_texts(\n",
    "    texts=texts,\n",
    "    collection_name=\"manual\",\n",
    "    embedding=embedding,\n",
    "    metadatas=metadatas,\n",
    "    persist_directory=\"../chroma\")"
   ]
  },
  {
   "cell_type": "markdown",
   "metadata": {},
   "source": [
    "# GPT-4 labeled examples for RAG"
   ]
  },
  {
   "cell_type": "code",
   "execution_count": 7,
   "metadata": {},
   "outputs": [],
   "source": [
    "with open(\"../prompts/examples/gpt4D.json\", \"r\") as infile:\n",
    "    gpt4D = json.load(infile)"
   ]
  },
  {
   "cell_type": "code",
   "execution_count": 8,
   "metadata": {},
   "outputs": [],
   "source": [
    "texts = []\n",
    "metadatas = []\n",
    "for example in gpt4D.items():\n",
    "    texts.append(str(example[1][\"input\"]))\n",
    "    metadatas.append(example[1])"
   ]
  },
  {
   "cell_type": "code",
   "execution_count": 9,
   "metadata": {},
   "outputs": [
    {
     "name": "stdout",
     "output_type": "stream",
     "text": [
      "{\"id\": \"EJ344485\", \"title\": \"The Impact of Financial and Cultural Resources on Educational Attainment in the Netherlands.\", \"author\": [\"De Graaf, Paul M.\"], \"description\": \"Using data from a 1977 survey conducted in the Netherlands, where education is almost completely free, this study shows that the degree to which parents' socioeconomic status influences educational attainment has disappeared since 1950. During the same time period, however, influence on educational attainment of access to cultural resources has increased. (Author/JDH)\", \"subject\": [\"Cultural Opportunities\", \"Educational Attainment\", \"Foreign Countries\", \"Higher Education\", \"Social Class\", \"Socioeconomic Influences\"], \"publicationtype\": [\"Journal Articles\", \"Reports - Research\"], \"publicationdateyear\": 1986, \"language\": [\"English\"], \"peerreviewed\": \"T\"}\n",
      "{'input': '{\"id\": \"EJ344485\", \"title\": \"The Impact of Financial and Cultural Resources on Educational Attainment in the Netherlands.\", \"author\": [\"De Graaf, Paul M.\"], \"description\": \"Using data from a 1977 survey conducted in the Netherlands, where education is almost completely free, this study shows that the degree to which parents\\' socioeconomic status influences educational attainment has disappeared since 1950. During the same time period, however, influence on educational attainment of access to cultural resources has increased. (Author/JDH)\", \"subject\": [\"Cultural Opportunities\", \"Educational Attainment\", \"Foreign Countries\", \"Higher Education\", \"Social Class\", \"Socioeconomic Influences\"], \"publicationtype\": [\"Journal Articles\", \"Reports - Research\"], \"publicationdateyear\": 1986, \"language\": [\"English\"], \"peerreviewed\": \"T\"}', 'output': '{\"quantitative\": true, \"qualitative\": false, \"primary/secondary\": false, \"tertiary\": true, \"inequality\": true, \"nonstructural\": false, \"culture\": true, \"school\": false, \"state\": false, \"labor\": false, \"comparative\": false, \"methods\": false}'}\n"
     ]
    }
   ],
   "source": [
    "print(texts[0])\n",
    "print(metadatas[0])"
   ]
  },
  {
   "cell_type": "code",
   "execution_count": 10,
   "metadata": {},
   "outputs": [
    {
     "name": "stdout",
     "output_type": "stream",
     "text": [
      "CPU times: user 4.99 s, sys: 1.68 s, total: 6.67 s\n",
      "Wall time: 1.89 s\n"
     ]
    }
   ],
   "source": [
    "%%time\n",
    "vectordb = Chroma.from_texts(\n",
    "    texts=texts,\n",
    "    collection_name=\"gpt4\",\n",
    "    embedding=embedding,\n",
    "    metadatas=metadatas,\n",
    "    persist_directory=\"../chroma\")"
   ]
  }
 ],
 "metadata": {
  "kernelspec": {
   "display_name": "codellama",
   "language": "python",
   "name": "python3"
  },
  "language_info": {
   "codemirror_mode": {
    "name": "ipython",
    "version": 3
   },
   "file_extension": ".py",
   "mimetype": "text/x-python",
   "name": "python",
   "nbconvert_exporter": "python",
   "pygments_lexer": "ipython3",
   "version": "3.11.5"
  }
 },
 "nbformat": 4,
 "nbformat_minor": 4
}
