{
 "cells": [
  {
   "cell_type": "code",
   "execution_count": 1,
   "id": "2723d692-a1d0-417f-8adb-075dd1519fdc",
   "metadata": {},
   "outputs": [],
   "source": [
    "from transformers import AutoTokenizer\n",
    "import matplotlib.pyplot as plt\n",
    "import numpy as np\n",
    "import jinja2\n",
    "import json\n",
    "import re\n",
    "import os"
   ]
  },
  {
   "cell_type": "code",
   "execution_count": 2,
   "id": "1822d80d-0078-465e-aaeb-03ab954b7064",
   "metadata": {},
   "outputs": [],
   "source": [
    "path = \"../data/txts/JES\""
   ]
  },
  {
   "cell_type": "code",
   "execution_count": 3,
   "id": "075889d4-3305-40d9-9de1-2fbd8c312a46",
   "metadata": {},
   "outputs": [
    {
     "name": "stdout",
     "output_type": "stream",
     "text": [
      "Number of files: 2157\n"
     ]
    }
   ],
   "source": [
    "for dirpath, dirnames, filenames in os.walk(path):\n",
    "    fnames = [f for f in filenames if f.endswith(\".txt\")]\n",
    "print(f\"Number of files: {len(fnames)}\")"
   ]
  },
  {
   "cell_type": "markdown",
   "id": "44295819-04ed-4959-94cd-604d3080f81a",
   "metadata": {},
   "source": [
    "## Average article length in pages:"
   ]
  },
  {
   "cell_type": "code",
   "execution_count": 4,
   "id": "3d5732f2-435f-4b14-90ed-fd7cb4197d6a",
   "metadata": {},
   "outputs": [
    {
     "name": "stdout",
     "output_type": "stream",
     "text": [
      "Mean: 8.7185906351414 | Std: 3.483332358352273 | Max: 27 | Min: 2\n"
     ]
    },
    {
     "data": {
      "text/plain": [
       "(array([169., 431., 800., 346., 280.,  65.,  46.,  13.,   3.,   4.]),\n",
       " array([ 2. ,  4.5,  7. ,  9.5, 12. , 14.5, 17. , 19.5, 22. , 24.5, 27. ]),\n",
       " <BarContainer object of 10 artists>)"
      ]
     },
     "execution_count": 4,
     "metadata": {},
     "output_type": "execute_result"
    },
    {
     "data": {
      "image/png": "[encoded data removed]",
      "text/plain": [
       "<Figure size 640x480 with 1 Axes>"
      ]
     },
     "metadata": {},
     "output_type": "display_data"
    }
   ],
   "source": [
    "pdf_lens = []\n",
    "for f in fnames:\n",
    "    with open(os.path.join(path, f), \"r\") as infile:\n",
    "        pgs = infile.read().split(\"<newpage>\")\n",
    "    pdf_lens.append(len(pgs))\n",
    "print(f\"Mean: {np.mean(pdf_lens)} | Std: {np.std(pdf_lens)} | Max: {np.max(pdf_lens)} | Min: {np.min(pdf_lens)}\")\n",
    "plt.hist(pdf_lens)"
   ]
  },
  {
   "cell_type": "markdown",
   "id": "ef656fe0-8f9d-4612-9357-790fcaeeb643",
   "metadata": {},
   "source": [
    "## Average page length in tokens:"
   ]
  },
  {
   "cell_type": "code",
   "execution_count": 5,
   "id": "ea193123-3c48-45f8-9eb5-f0302384ec94",
   "metadata": {},
   "outputs": [],
   "source": [
    "# go one dir up\n",
    "llama_dir = os.path.join(os.getcwd(), \"..\", \"..\", \"codellama\", \"CodeLlama-7b-Instruct-hf\")\n",
    "tokenizer = AutoTokenizer.from_pretrained(llama_dir, local_files_only=True)"
   ]
  },
  {
   "cell_type": "code",
   "execution_count": 6,
   "id": "2c7d82d0-7370-4adc-b794-a3976e6f610e",
   "metadata": {},
   "outputs": [
    {
     "name": "stdout",
     "output_type": "stream",
     "text": [
      "Mean: 546.416994576199 | Std: 196.92359012355942 | Max: 2150 | Min: 22\n"
     ]
    },
    {
     "data": {
      "text/plain": [
       "(array([2.290e+03, 7.290e+02, 1.125e+04, 4.289e+03, 1.990e+02, 3.900e+01,\n",
       "        6.000e+00, 2.000e+00, 0.000e+00, 2.000e+00]),\n",
       " array([  22. ,  234.8,  447.6,  660.4,  873.2, 1086. , 1298.8, 1511.6,\n",
       "        1724.4, 1937.2, 2150. ]),\n",
       " <BarContainer object of 10 artists>)"
      ]
     },
     "execution_count": 6,
     "metadata": {},
     "output_type": "execute_result"
    },
    {
     "data": {
      "image/png": "[encoded data removed]",
      "text/plain": [
       "<Figure size 640x480 with 1 Axes>"
      ]
     },
     "metadata": {},
     "output_type": "display_data"
    }
   ],
   "source": [
    "pg_lens = []\n",
    "for f in fnames:\n",
    "    with open(os.path.join(path, f), \"r\") as infile:\n",
    "        pgs = infile.read().split(\"<newpage>\")\n",
    "        for pg in pgs:\n",
    "            pg_lens.append(len(tokenizer.tokenize(pg)))\n",
    "print(f\"Mean: {np.mean(pg_lens)} | Std: {np.std(pg_lens)} | Max: {np.max(pg_lens)} | Min: {np.min(pg_lens)}\")\n",
    "plt.hist(pg_lens)"
   ]
  },
  {
   "cell_type": "markdown",
   "id": "82851e49",
   "metadata": {},
   "source": [
    "LLaMA2-Code has a functional context length of 16k tokens."
   ]
  },
  {
   "cell_type": "markdown",
   "id": "02d476e7",
   "metadata": {},
   "source": [
    "## Prompt Engineering"
   ]
  },
  {
   "cell_type": "code",
   "execution_count": 7,
   "id": "6a6e69ce",
   "metadata": {},
   "outputs": [],
   "source": [
    "class jinjitsu():\n",
    "    def __init__(self, template_dir, template_file, exampleVars):\n",
    "        self.templateLoader = jinja2.FileSystemLoader(searchpath=template_dir)\n",
    "        self.templateEnv = jinja2.Environment( loader=self.templateLoader )\n",
    "        self.template = self.templateEnv.get_template( template_file )\n",
    "        self.example = self.template.render( exampleVars )\n",
    "\n",
    "    def render(self, templateVars):\n",
    "        return self.template.render( templateVars )"
   ]
  },
  {
   "cell_type": "code",
   "execution_count": 8,
   "id": "83d7d52e",
   "metadata": {},
   "outputs": [],
   "source": [
    "with open(\"../prompts/examples/txt_example.json\", \"r\") as infile:\n",
    "        exampleVars = json.load(infile)"
   ]
  },
  {
   "cell_type": "code",
   "execution_count": 9,
   "id": "26c4cd53",
   "metadata": {},
   "outputs": [],
   "source": [
    "jinjaLoader = jinjitsu(\"../prompts\", \"txt.jinja\", exampleVars)"
   ]
  },
  {
   "cell_type": "markdown",
   "id": "837c7918",
   "metadata": {},
   "source": [
    "### Average prompt length in tokens:"
   ]
  },
  {
   "cell_type": "code",
   "execution_count": 10,
   "id": "b4170e4c",
   "metadata": {},
   "outputs": [
    {
     "name": "stdout",
     "output_type": "stream",
     "text": [
      "Prompt length with 1 page(s):\n",
      "Mean: 1654.6226240148353 | Std: 14.786140686361763 | Max: 1702 | Min: 1614\n",
      "Prompt length with 2 page(s):\n",
      "Mean: 2237.5210941121927 | Std: 90.01422720242216 | Max: 2610 | Min: 1805\n",
      "Prompt length with 3 page(s):\n",
      "Mean: 2863.578117756143 | Std: 172.52565481779726 | Max: 3501 | Min: 1865\n",
      "Prompt length with 4 page(s):\n",
      "Mean: 3469.7320352341217 | Std: 279.1059465512372 | Max: 4446 | Min: 1865\n",
      "Prompt length with 5 page(s):\n",
      "Mean: 4040.038942976356 | Std: 417.8468811664212 | Max: 5986 | Min: 1865\n",
      "Prompt length with 6 page(s):\n",
      "Mean: 4549.080203987019 | Std: 593.1957403992167 | Max: 6645 | Min: 1865\n"
     ]
    }
   ],
   "source": [
    "# runs for a moment\n",
    "for pgnum in range(1, 7):\n",
    "    print(f\"Prompt length with {pgnum} page(s):\")\n",
    "    prompt_lens = []\n",
    "    for f in fnames:\n",
    "        with open(os.path.join(path, f), \"r\") as infile:\n",
    "            pgs = infile.read().split(\"<newpage>\")\n",
    "        templateVars = {\"input\": \"\\n\".join(pgs[:pgnum]), \"output\": \"\"}\n",
    "        prompt = \"\\n\".join([jinjaLoader.example, jinjaLoader.render( templateVars )])\n",
    "        prompt_lens.append(len(tokenizer.tokenize(prompt)))\n",
    "    print(f\"Mean: {np.mean(prompt_lens)} | Std: {np.std(prompt_lens)} | Max: {np.max(prompt_lens)} | Min: {np.min(prompt_lens)}\")"
   ]
  },
  {
   "cell_type": "markdown",
   "id": "f86ad88d",
   "metadata": {},
   "source": [
    "### Correct JSON response length in tokens:"
   ]
  },
  {
   "cell_type": "code",
   "execution_count": 11,
   "id": "7be2269e",
   "metadata": {},
   "outputs": [
    {
     "name": "stdout",
     "output_type": "stream",
     "text": [
      "Length of max expected JSON output in tokens: 74\n"
     ]
    }
   ],
   "source": [
    "all_false = json.dumps({\"quantitative\": False, \"qualitative\": False, \"primary/secondary\": False, \"tertiary\": False, \"inequality\": False, \"nonstructural\": False, \"culture\": False, \"school\": False, \"state\": False, \"labor\": False, \"comparative\": False, \"methods\": False})\n",
    "print(f\"Length of max expected JSON output in tokens: {len(tokenizer.tokenize(all_false))}\")"
   ]
  }
 ],
 "metadata": {
  "kernelspec": {
   "display_name": "nlu",
   "language": "python",
   "name": "python3"
  },
  "language_info": {
   "codemirror_mode": {
    "name": "ipython",
    "version": 3
   },
   "file_extension": ".py",
   "mimetype": "text/x-python",
   "name": "python",
   "nbconvert_exporter": "python",
   "pygments_lexer": "ipython3",
   "version": "3.11.5"
  }
 },
 "nbformat": 4,
 "nbformat_minor": 5
}
