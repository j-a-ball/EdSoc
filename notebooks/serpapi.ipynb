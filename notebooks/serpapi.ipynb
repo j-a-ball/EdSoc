{
 "cells": [
  {
   "cell_type": "code",
   "execution_count": 1,
   "metadata": {},
   "outputs": [],
   "source": [
    "from serpapi.google_scholar_search import GoogleScholarSearch\n",
    "from numpy.random import default_rng\n",
    "from dotenv import load_dotenv\n",
    "from time import sleep\n",
    "from tqdm import tqdm\n",
    "from collections import defaultdict\n",
    "import html\n",
    "import json\n",
    "import os\n",
    "_ = load_dotenv(\"serpapi.env\")\n",
    "API_KEY = os.environ.get(\"API_KEY\")"
   ]
  },
  {
   "cell_type": "code",
   "execution_count": 2,
   "metadata": {},
   "outputs": [
    {
     "name": "stdout",
     "output_type": "stream",
     "text": [
      "Soc of Ed articles: 1035\n"
     ]
    }
   ],
   "source": [
    "with open(\"../data/eric/se.json\", \"r\") as infile:\n",
    "    se = json.load(infile)\n",
    "records = se[\"response\"][\"docs\"]\n",
    "print(f\"Soc of Ed articles: {len(records)}\")"
   ]
  },
  {
   "cell_type": "code",
   "execution_count": 3,
   "metadata": {},
   "outputs": [
    {
     "name": "stdout",
     "output_type": "stream",
     "text": [
      "Unique IDs: 1035\n"
     ]
    }
   ],
   "source": [
    "ids = [r[\"id\"] for r in records]\n",
    "print(f\"Unique IDs: {len(set(ids))}\")"
   ]
  },
  {
   "cell_type": "code",
   "execution_count": 4,
   "metadata": {},
   "outputs": [],
   "source": [
    "output_dir = \"../data/eric/serpapi\"\n",
    "if not os.path.exists(output_dir):\n",
    "    os.mkdir(output_dir)"
   ]
  },
  {
   "cell_type": "code",
   "execution_count": 5,
   "metadata": {},
   "outputs": [
    {
     "name": "stdout",
     "output_type": "stream",
     "text": [
      "{'id': 'EJ1158833', 'title': 'Gender Differences in Context: The Impact of Track Position on Study Involvement in Flemish Secondary Education', 'author': ['Van Houtte, Mieke'], 'description': \"This study examines whether the influence of track position on study involvement is gendered and whether gender differences in study involvement according to track position are associated with school misconduct and rather poor future perspectives. Three-level analyses (HLM 6) of data gathered in 2004-2005 from 11,872 third- and fifth-grade students in 146 tracks in a representative sample of 85 secondary schools in Flanders (Belgium) confirmed the impact of tracking on boys' as well as girls' study involvement. Boys are, generally, less involved in studying than girls, and boys are more affected by track position than girls are, enlarging the gender gap in the lower tracks. In these tracks, boys are more prone to misconduct and rather poor future perspectives. Finally, girls in arts tracks are, on average, more involved in studying than girls in academic tracks, but because of their higher tendency for disruptive behavior in school, this does not show.\", 'subject': ['Gender Differences', 'Track System (Education)', 'Foreign Countries', 'Secondary School Students', 'Behavior Problems', 'Correlation', 'Grade 3', 'Grade 5', 'Elementary School Students', 'Study Habits', 'Ability Grouping', 'Academic Aspiration', 'Higher Education', 'Grade Point Average', 'Hierarchical Linear Modeling', 'Statistical Analysis', 'Questionnaires'], 'publicationtype': ['Journal Articles', 'Reports - Research'], 'publicationdateyear': 2017, 'language': ['English'], 'issn': ['ISSN-0038-0407'], 'publisher': 'SAGE Publications. 2455 Teller Road, Thousand Oaks, CA 91320. Tel: 800-818-7243; Tel: 805-499-9774; Fax: 800-583-2665; e-mail: journals@sagepub.com; Web site: http://sagepub.com', 'peerreviewed': 'T'}\n"
     ]
    }
   ],
   "source": [
    "print(records[0])"
   ]
  },
  {
   "cell_type": "code",
   "execution_count": null,
   "metadata": {},
   "outputs": [],
   "source": [
    "for rec in tqdm(records):\n",
    "    id = html.unescape(rec[\"id\"])\n",
    "    title = html.unescape(rec[\"title\"])\n",
    "    authors = html.unescape(\n",
    "        \" \".join([a for a in rec[\"author\"]]))\n",
    "    query = \" \".join([title, authors, \"Sociology of Education\"])\n",
    "    search = GoogleScholarSearch({\"q\": query, \"api_key\": API_KEY})\n",
    "    results = search.get_dict()\n",
    "    with open(f\"{output_dir}/{id}.json\", \"w\") as outfile:\n",
    "        json.dump(results, outfile)\n",
    "    # random sleep pattern on each iteration\n",
    "    sleep(1 + default_rng().uniform(0, 1))"
   ]
  },
  {
   "cell_type": "code",
   "execution_count": 6,
   "metadata": {},
   "outputs": [
    {
     "name": "stdout",
     "output_type": "stream",
     "text": [
      "3820  -  EJ353123  -  Social class differences in family-school relationships: The importance of cultural capital\n",
      "3482  -  EJ560204  -  Effects of college transition and perceptions of the campus racial climate on Latino college students' sense of belonging\n",
      "2810  -  EJ590423  -  Moments of social inclusion and exclusion race, class, and cultural capital in family-school relationships\n",
      "2265  -  EJ533315  -  Effects of parental involvement on eighth-grade achievement\n",
      "1939  -  EJ406199  -  The attitude-achievement paradox among Black adolescents\n",
      "1905  -  EJ551245  -  From first grade forward: Early foundations of high school dropout\n",
      "1771  -  EJ679899  -  Cultural capital, gender, and school success: The role of habitus\n",
      "1648  -  EJ455101  -  World expansion of mass education, 1870-1980\n",
      "1638  -  EJ502246  -  Social capital and the reproduction of inequality: Information networks among Mexican-origin high school students\n",
      "1625  -  EJ473710  -  Maximally maintained inequality: Expansion, reform, and opportunity in Irish education, 1921-75\n",
      "1467  -  EJ618883  -  Parental cultural capital and educational attainment in the Netherlands: A refinement of the cultural capital perspective\n",
      "1398  -  EJ333588  -  A hierarchical model for studying school effects\n",
      "1377  -  EJ679900  -  Linking extracurricular programming to academic achievement: Who benefits and why?\n",
      "1245  -  EJ695992  -  Intergenerational bonding in school: The behavioral and contextual correlates of student-teacher relationships\n",
      "1198  -  EJ397167  -  A multilevel model of the social distribution of high school achievement\n",
      "1174  -  EJ348192  -  The political construction of mass schooling: European origins and worldwide institutionalization\n",
      "1174  -  EJ725429  -  Leveling the home advantage: Assessing the effectiveness of parental involvement in elementary school\n",
      "1154  -  EJ340568  -  Mothers' strategies for children's school achievement: Managing the transition to high school\n",
      "1154  -  EJ679897  -  Schooling in capitalist America revisited\n",
      "1140  -  EJ455099  -  Paths to high school graduation or dropout: A longitudinal study of a first-grade cohort\n",
      "1123  -  EJ517055  -  Effects of high school restructuring and size on early gains in achievement and engagement\n",
      "1118  -  EJ665368  -  Students' attachment and academic engagement: The role of race and ethnicity\n",
      "1096  -  EJ458379  -  Socialization to gender roles: Popularity among elementary school boys and girls\n",
      "1095  -  EJ604211  -  Race, cultural capital, and educational resources: Persistent inequalities and achievement returns\n",
      "1077  -  EJ438423  -  The effect of the social organization of schools on teachers' efficacy and satisfaction\n",
      "1061  -  EJ357399  -  The stratification of high school learning opportunities\n",
      "1059  -  EJ696453  -  Beyond decoupling: Rethinking the relationship between the institutional environment and the classroom\n",
      "1027  -  EJ322823  -  The cycle of popularity: Interpersonal relations among female adolescents\n",
      "1019  -  EJ498339  -  Extracurricular activities and high school dropouts\n",
      "1015  -  EJ455102  -  Contextual effects on the self-perceived efficacy of high school teachers\n",
      "998  -  EJ661987  -  Comment: The first and second digital divides\n",
      "938  -  EJ571110  -  Parent-child differences in educational expectations and the academic achievement of immigrant and native students\n",
      "929  -  EJ612172  -  The distribution of dropout and turnover rates among urban and suburban high schools\n",
      "908  -  EJ696702  -  When race matters: Teachers' evaluations of students' classroom behavior\n",
      "908  -  EJ545347  -  Educational progress of children of immigrants: The roles of class, ethnicity, and school context\n",
      "846  -  EJ398365  -  Organizational factors that affect school sense of efficacy, community, and expectations\n",
      "839  -  EJ447917  -  Understanding inequality in schools: The contribution of interpretive studies\n",
      "835  -  EJ696221  -  Social capital and the diffusion of innovations within organizations: The case of computer technology in schools\n",
      "835  -  EJ590422  -  Educational expectations of Asian American youths: Determinants and ethnic differences\n",
      "832  -  EJ285979  -  A text and reconceptualization of a theoretical model of college withdrawal in a commuter institution setting\n",
      "826  -  EJ031575  -  The methodology of research on college impact, part one\n",
      "811  -  EJ442183  -  Neighborhood effects on educational attainment: A multilevel analysis\n",
      "789  -  EJ560201  -  Using research on employees' performance to study the effects of teachers on students' achievement\n",
      "745  -  EJ170609  -  The world educational revolution, 1950-1970\n",
      "729  -  EJ679929  -  Black-white differences in achievement: The importance of wealth\n",
      "728  -  EJ889485  -  Teacher influences on students' attachment to school\n",
      "724  -  EJ423730  -  Workplace conditions and the rise and fall of teachers' commitment\n",
      "722  -  EJ482403  -  Effects of school restructuring on the achievement and engagement of middle-grade students\n",
      "721  -  EJ679981  -  The unfulfilled promise of cultural capital theory\n",
      "718  -  EJ493841  -  Tracking: From theory to practice\n",
      "715  -  EJ473709  -  From nerds to normals: The recovery of identity among adolescents from middle school to high school\n",
      "711  -  EJ072302  -  Status attainment processes\n",
      "709  -  EJ578473  -  E pluribus unum: Bilingualism and loss of language in the second generation\n",
      "698  -  EJ493916  -  The path to math: Gender and racial-ethnic differences in mathematics participation from middle school to high school\n",
      "681  -  EJ170608  -  Sources of peer group homogeneity\n",
      "680  -  EJ493914  -  Lost talent: Unrealized educational aspirations and expectations among US youths\n",
      "667  -  EJ379348  -  Friendship in school: Gender and racial homophily\n",
      "657  -  EJ423733  -  Family influences on dropout behavior in one California high school\n",
      "645  -  EJ578474  -  A little help from my friend's parents: Intergenerational closure and educational outcomes\n",
      "639  -  EJ696941  -  Tracking, students' effort, and academic achievement\n",
      "631  -  EJ750171  -  Following their every move: An investigation of social-class differences in college pathways\n",
      "631  -  EJ525292  -  Race, cultural capital, and schooling: An analysis of trends in the United States\n",
      "628  -  EJ679901  -  Interpersonal influences and educational aspirations in 12 countries: The importance of institutional context\n",
      "621  -  EJ344485  -  The impact of financial and cultural resources on educational attainment in the Netherlands\n",
      "611  -  EJ889482  -  Student engagement, peer social capital, and school dropout among Mexican American and non-Latino white students\n",
      "600  -  EJ679984  -  American schooling and educational inequality: A forecast for the 21st century\n",
      "598  -  EJ929878  -  Potholes on the road to college: High school effects in shaping urban students' participation in college application, four-year college enrollment, and college match\n",
      "598  -  EJ696452  -  Social reproduction and child-rearing practices: Social class, children's agency, and the summer activity gap\n",
      "596  -  EJ904506  -  Socioeconomic disadvantage, school attendance, and early cognitive development: The differential effects of school exposure\n",
      "571  -  EJ340565  -  Single parents, working mothers, and the educational achievement of school children\n",
      "571  -  EJ340567  -  Single parents, working mothers, and the educational achievement of school children\n",
      "569  -  EJ438421  -  Academic and nonacademic influences on the college destinations of 1980 high school graduates\n",
      "563  -  EJ750173  -  Straddling boundaries: Identity, culture, and school\n",
      "563  -  EJ461835  -  Middle schools and math groups: Parents' involvement in children's placement\n",
      "562  -  EJ294011  -  The relative roles of academic, ascribed, and socioeconomic characteristics in college destinations\n",
      "562  -  EJ625649  -  The roles of self-esteem and the sense of personal control in the academic achievement process\n",
      "541  -  ED296041  -  Dropping out of high school and drug involvement\n",
      "541  -  EJ369607  -  Dropping out of high school and drug involvement\n",
      "535  -  EJ407823  -  Students' characteristics and the peer-influence process\n",
      "530  -  EJ679976  -  Education and social stratification processes in comparative perspective\n",
      "525  -  EJ941951  -  Does cultural capital really affect academic achievement? New evidence from combined sibling and panel data\n",
      "523  -  EJ558886  -  The meaning of meanness: Popularity, competition, and conflict among junior high school girls\n",
      "522  -  EJ498335  -  Effects of minority-language literacy on the academic achievement of Vietnamese youths in New Orleans\n",
      "517  -  EJ263744  -  Cognitive outcomes in public and private schools\n",
      "516  -  EJ679922  -  Who goes to graduate school? Social and academic correlates of educational continuation after college\n",
      "515  -  EJ889474  -  Making it through the first year of college: The role of students' economic resources, employment, and living arrangements\n",
      "514  -  EJ369606  -  Curriculum tracking as mediating the social distribution of high school achievement\n",
      "510  -  EJ679977  -  The social sources of educational credentialism: Status cultures, labor markets, and organizations\n",
      "509  -  EJ312832  -  Does employment during high school impair academic progress?\n",
      "509  -  EJ525294  -  Gender and job values\n",
      "508  -  EJ551247  -  How high school organization influences the equitable distribution of learning in mathematics and science\n",
      "507  -  EJ534904  -  Access to and opportunity in postsecondary education in the United States: A review\n",
      "506  -  EJ315960  -  Gender relations in secondary schooling\n",
      "504  -  EJ612170  -  The incorporation of women into higher education: Paradoxical outcomes?\n",
      "498  -  EJ320392  -  Achievement growth in public and Catholic schools\n",
      "497  -  EJ461837  -  Research, teaching, and publication productivity: Mutuality versus competition in academia\n",
      "494  -  EJ644004  -  Capital for college: Parental assets and postsecondary schooling\n",
      "491  -  EJ881642  -  After the bell: Participation in extracurricular activities, classroom behavior, and academic achievement\n",
      "491  -  EJ679905  -  Changes in access to higher education in the United States: 1980-1992\n",
      "490  -  EJ578476  -  Gender differences in parental involvement and adolescents' mathematics achievement\n"
     ]
    }
   ],
   "source": [
    "citeD = {}\n",
    "for id in ids:\n",
    "    with open(f\"{output_dir}/{id}.json\", \"r\") as infile:\n",
    "        result = json.load(infile)\n",
    "    try:\n",
    "        citeD[id] = result[\"organic_results\"][0][\"inline_links\"][\"cited_by\"][\"total\"]\n",
    "    except KeyError:\n",
    "        citeD[id] = 0\n",
    "# order the ids by citation count\n",
    "ids = sorted(ids, key=lambda x: citeD[x], reverse=True)\n",
    "for id in ids[:100]:\n",
    "    with open(f\"{output_dir}/{id}.json\", \"r\") as infile:\n",
    "        result = json.load(infile)\n",
    "    print(citeD[id], \" - \", id, \" - \", result[\"organic_results\"][0][\"title\"])"
   ]
  },
  {
   "cell_type": "markdown",
   "metadata": {},
   "source": [
    "ED296041  -  Dropping out of high school and drug involvement is a duplicate"
   ]
  },
  {
   "cell_type": "code",
   "execution_count": 7,
   "metadata": {},
   "outputs": [
    {
     "name": "stdout",
     "output_type": "stream",
     "text": [
      "1034\n"
     ]
    }
   ],
   "source": [
    "print(len({k:v for k, v in citeD.items() if k != \"ED296041\"}))"
   ]
  },
  {
   "cell_type": "code",
   "execution_count": 8,
   "metadata": {},
   "outputs": [],
   "source": [
    "with open(f\"{output_dir}/SE_citations.json\", \"w\") as outfile:\n",
    "    json.dump({k:v for k, v in citeD.items() if k != \"ED296041\"}, outfile)"
   ]
  },
  {
   "cell_type": "code",
   "execution_count": 9,
   "metadata": {},
   "outputs": [
    {
     "name": "stdout",
     "output_type": "stream",
     "text": [
      "3820  -  EJ353123  -  Social class differences in family-school relationships: The importance of cultural capital\n",
      "3482  -  EJ560204  -  Effects of college transition and perceptions of the campus racial climate on Latino college students' sense of belonging\n",
      "2810  -  EJ590423  -  Moments of social inclusion and exclusion race, class, and cultural capital in family-school relationships\n",
      "2265  -  EJ533315  -  Effects of parental involvement on eighth-grade achievement\n",
      "1939  -  EJ406199  -  The attitude-achievement paradox among Black adolescents\n",
      "1905  -  EJ551245  -  From first grade forward: Early foundations of high school dropout\n",
      "1771  -  EJ679899  -  Cultural capital, gender, and school success: The role of habitus\n",
      "1648  -  EJ455101  -  World expansion of mass education, 1870-1980\n",
      "1638  -  EJ502246  -  Social capital and the reproduction of inequality: Information networks among Mexican-origin high school students\n",
      "1625  -  EJ473710  -  Maximally maintained inequality: Expansion, reform, and opportunity in Irish education, 1921-75\n"
     ]
    }
   ],
   "source": [
    "for id in ids[:10]:\n",
    "    with open(f\"{output_dir}/{id}.json\", \"r\") as infile:\n",
    "        result = json.load(infile)\n",
    "    print(citeD[id], \" - \", id, \" - \", result[\"organic_results\"][0][\"title\"])"
   ]
  },
  {
   "cell_type": "code",
   "execution_count": 10,
   "metadata": {},
   "outputs": [],
   "source": [
    "manualD = defaultdict(dict)\n",
    "for rec in records:\n",
    "    if rec[\"id\"] in ids[:10]:\n",
    "        manualD[rec[\"id\"]] = {\"input\": str(rec), \"output\": \"\"}"
   ]
  },
  {
   "cell_type": "code",
   "execution_count": 11,
   "metadata": {},
   "outputs": [],
   "source": [
    "manualD[\"EJ353123\"][\"output\"] = str({\"quantitative\": False, \"qualitative\": True, \"primary/secondary\": True, \"tertiary\": False, \"inequality\": False, \"nonstructural\": False, \"culture\": True, \"school\": True, \"state\": False, \"labor\": False, \"comparative\": False, \"methods\": False})\n",
    "manualD[\"EJ679899\"][\"output\"] = str({\"quantitative\": False, \"qualitative\": True, \"primary/secondary\": True, \"tertiary\": False, \"inequality\": False, \"nonstructural\": False, \"culture\": True, \"school\": True, \"state\": False, \"labor\": False, \"comparative\": False, \"methods\": False})\n",
    "manualD[\"EJ533315\"][\"output\"] = str({\"quantitative\": True, \"qualitative\": False, \"primary/secondary\": True, \"tertiary\": False, \"inequality\": False, \"nonstructural\": False, \"culture\": True, \"school\": True, \"state\": False, \"labor\": False, \"comparative\": False, \"methods\": False})\n",
    "manualD[\"EJ551245\"][\"output\"] = str({\"quantitative\": True, \"qualitative\": False, \"primary/secondary\": True, \"tertiary\": False, \"inequality\": False, \"nonstructural\": False, \"culture\": False, \"school\": True, \"state\": False, \"labor\": False, \"comparative\": False, \"methods\": False})\n",
    "manualD[\"EJ560204\"][\"output\"] = str({\"quantitative\": True, \"qualitative\": False, \"primary/secondary\": False, \"tertiary\": True, \"inequality\": True, \"nonstructural\": False, \"culture\": False, \"school\": False, \"state\": False, \"labor\": False, \"comparative\": False, \"methods\": False})\n",
    "manualD[\"EJ590423\"][\"output\"] = str({\"quantitative\": False, \"qualitative\": True, \"primary/secondary\": True, \"tertiary\": False, \"inequality\": True, \"nonstructural\": False, \"culture\": True, \"school\": True, \"state\": False, \"labor\": False, \"comparative\": False, \"methods\": False})\n",
    "manualD[\"EJ502246\"][\"output\"] = str({\"quantitative\": True, \"qualitative\": False, \"primary/secondary\": True, \"tertiary\": False, \"inequality\": True, \"nonstructural\": False, \"culture\": False, \"school\": False, \"state\": False, \"labor\": False, \"comparative\": False, \"methods\": False})\n",
    "manualD[\"EJ473710\"][\"output\"] = str({\"quantitative\": True, \"qualitative\": False, \"primary/secondary\": True, \"tertiary\": False, \"inequality\": True, \"nonstructural\": False, \"culture\": True, \"school\": True, \"state\": False, \"labor\": False, \"comparative\": False, \"methods\": False})\n",
    "manualD[\"EJ455101\"][\"output\"] = str({\"quantitative\": True, \"qualitative\": False, \"primary/secondary\": True, \"tertiary\": False, \"inequality\": False, \"nonstructural\": False, \"culture\": False, \"school\": False, \"state\": True, \"labor\": False, \"comparative\": False, \"methods\": False})\n",
    "manualD[\"EJ406199\"][\"output\"] = str({\"quantitative\": True, \"qualitative\": False, \"primary/secondary\": True, \"tertiary\": False, \"inequality\": True, \"nonstructural\": False, \"culture\": False, \"school\": False, \"state\": False, \"labor\": False, \"comparative\": False, \"methods\": False})"
   ]
  },
  {
   "cell_type": "code",
   "execution_count": 12,
   "metadata": {},
   "outputs": [],
   "source": [
    "with open(\"../prompts/examples/manualD.json\", \"w\") as outfile:\n",
    "    json.dump(manualD, outfile)"
   ]
  },
  {
   "cell_type": "code",
   "execution_count": 13,
   "metadata": {},
   "outputs": [],
   "source": [
    "gpt4D = defaultdict(dict)\n",
    "for rec in records:\n",
    "    if rec[\"id\"] in ids[10:100]:\n",
    "        gpt4D[rec[\"id\"]] = {\"input\": str(rec), \"output\": \"\"}"
   ]
  },
  {
   "cell_type": "code",
   "execution_count": 14,
   "metadata": {},
   "outputs": [],
   "source": [
    "with open(\"../prompts/examples/gpt4D.json\", \"w\") as outfile:\n",
    "    json.dump(gpt4D, outfile)"
   ]
  }
 ],
 "metadata": {
  "kernelspec": {
   "display_name": "NLU\n",
   "language": "python",
   "name": "nlu"
  },
  "language_info": {
   "codemirror_mode": {
    "name": "ipython",
    "version": 3
   },
   "file_extension": ".py",
   "mimetype": "text/x-python",
   "name": "python",
   "nbconvert_exporter": "python",
   "pygments_lexer": "ipython3",
   "version": "3.9.13"
  },
  "orig_nbformat": 4
 },
 "nbformat": 4,
 "nbformat_minor": 2
}
