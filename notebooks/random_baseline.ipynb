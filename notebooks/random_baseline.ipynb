{
 "cells": [
  {
   "cell_type": "code",
   "execution_count": 1,
   "metadata": {},
   "outputs": [],
   "source": [
    "__author__ = \"Jon Ball\"\n",
    "__version__ = \"November 2023\""
   ]
  },
  {
   "cell_type": "code",
   "execution_count": 2,
   "metadata": {},
   "outputs": [],
   "source": [
    "from lxml import etree\n",
    "from collections import Counter\n",
    "import matplotlib.pyplot as plt\n",
    "import requests\n",
    "import random\n",
    "import json\n",
    "import time\n",
    "import os"
   ]
  },
  {
   "cell_type": "code",
   "execution_count": 3,
   "metadata": {},
   "outputs": [],
   "source": [
    "# set random seed\n",
    "random.seed(42)"
   ]
  },
  {
   "cell_type": "code",
   "execution_count": 4,
   "metadata": {},
   "outputs": [],
   "source": [
    "with open (\"../data/eric/se.json\", \"r\") as infile:\n",
    "    se = json.load(infile)"
   ]
  },
  {
   "cell_type": "code",
   "execution_count": 5,
   "metadata": {},
   "outputs": [
    {
     "data": {
      "text/plain": [
       "(array([ 78., 128., 115.,  98., 111.,  88., 124.,  82., 112.,  99.]),\n",
       " array([1968. , 1973.5, 1979. , 1984.5, 1990. , 1995.5, 2001. , 2006.5,\n",
       "        2012. , 2017.5, 2023. ]),\n",
       " <BarContainer object of 10 artists>)"
      ]
     },
     "execution_count": 5,
     "metadata": {},
     "output_type": "execute_result"
    },
    {
     "data": {
      "image/png": "[encoded data removed]",
      "text/plain": [
       "<Figure size 640x480 with 1 Axes>"
      ]
     },
     "metadata": {},
     "output_type": "display_data"
    }
   ],
   "source": [
    "yrs = []\n",
    "for doc in se[\"response\"][\"docs\"]:\n",
    "    yrs.append(doc[\"publicationdateyear\"])\n",
    "countD = Counter(yrs)\n",
    "plt.hist(yrs)"
   ]
  },
  {
   "cell_type": "code",
   "execution_count": 6,
   "metadata": {},
   "outputs": [
    {
     "name": "stdout",
     "output_type": "stream",
     "text": [
      "{'2023': 12, '2022': 16, '2021': 18, '2020': 19, '2019': 18, '2018': 16, '2017': 18, '2016': 23, '2015': 17, '2014': 16, '2013': 18, '2012': 20, '2011': 18, '2010': 16, '2009': 16, '2008': 16, '2007': 16, '2006': 16, '2005': 19, '2004': 17, '2003': 22, '2002': 17, '2001': 33, '2000': 14, '1999': 13, '1998': 16, '1997': 18, '1996': 27, '1995': 16, '1994': 17, '1993': 15, '1992': 19, '1991': 23, '1990': 21, '1989': 18, '1988': 20, '1987': 21, '1986': 20, '1985': 19, '1984': 26, '1983': 18, '1982': 18, '1981': 12, '1980': 21, '1979': 20, '1978': 22, '1977': 20, '1976': 30, '1975': 28, '1974': 28, '1973': 27, '1972': 16, '1971': 25, '1970': 9, '1968': 1}\n"
     ]
    }
   ],
   "source": [
    "print({f\"{k}\": v for k, v in sorted(countD.items(), key=lambda item: item, reverse=True)})"
   ]
  },
  {
   "cell_type": "code",
   "execution_count": 7,
   "metadata": {},
   "outputs": [],
   "source": [
    "data_dir = \"../../ERIC/data\""
   ]
  },
  {
   "cell_type": "code",
   "execution_count": 8,
   "metadata": {},
   "outputs": [
    {
     "name": "stdout",
     "output_type": "stream",
     "text": [
      "CPU times: user 47.8 s, sys: 8.62 s, total: 56.4 s\n",
      "Wall time: 56.2 s\n"
     ]
    }
   ],
   "source": [
    "%%time\n",
    "control_ids = []\n",
    "for dirname, dirpath, _ in os.walk(data_dir):\n",
    "    if dirname != data_dir:\n",
    "        for _, _, files in os.walk(dirname):\n",
    "            for file in files:\n",
    "                if file.endswith(\".xml\"):\n",
    "                    yr = int(file[4:8])\n",
    "                    if yr in countD:\n",
    "                        count = countD[yr]\n",
    "                        with open(os.path.join(dirname, file), \"r\") as infile:\n",
    "                            xml = infile.read()\n",
    "                        namespaces = {\"dc\": \"http://purl.org/dc/elements/1.1/\", \"eric\": \"http://eric.ed.gov/\"}\n",
    "                        root = etree.fromstring(xml)\n",
    "                        ids = [id.text for id in root.xpath(\"//dc:identifier\", namespaces=namespaces) if id.text and id.text.startswith(\"EJ\")]\n",
    "                        if ids:\n",
    "                            # pick `count` random ids\n",
    "                            ids = random.sample(ids, count)\n",
    "                            control_ids.extend(ids)"
   ]
  },
  {
   "cell_type": "code",
   "execution_count": 9,
   "metadata": {},
   "outputs": [
    {
     "name": "stdout",
     "output_type": "stream",
     "text": [
      "Number of control ids: 1022\n"
     ]
    }
   ],
   "source": [
    "print(f\"Number of control ids: {len(control_ids)}\")"
   ]
  },
  {
   "cell_type": "markdown",
   "metadata": {},
   "source": [
    "### Get json records from eric api"
   ]
  },
  {
   "cell_type": "code",
   "execution_count": 10,
   "metadata": {},
   "outputs": [],
   "source": [
    "url_a = \"https://api.ies.ed.gov/eric/?search=id%3A%22\"\n",
    "url_b = \"%22&format=json&rows=1\""
   ]
  },
  {
   "cell_type": "code",
   "execution_count": 11,
   "metadata": {},
   "outputs": [
    {
     "name": "stdout",
     "output_type": "stream",
     "text": [
      "Number of json responses: 1022\n",
      "CPU times: user 23.2 s, sys: 1.12 s, total: 24.3 s\n",
      "Wall time: 10min 46s\n"
     ]
    }
   ],
   "source": [
    "%%time \n",
    "randomD = {}\n",
    "for id in control_ids:\n",
    "    url = url_a + id + url_b\n",
    "    r = requests.get(url)\n",
    "    if r.status_code == 200:\n",
    "        rec = json.loads(r.text)\n",
    "        randomD[id] = rec[\"response\"][\"docs\"][0]\n",
    "print(f\"Number of json responses: {len(randomD)}\")"
   ]
  },
  {
   "cell_type": "code",
   "execution_count": 15,
   "metadata": {},
   "outputs": [],
   "source": [
    "randomD = {\"response\": {\"docs\": list(randomD.values())}}\n",
    "with open(\"../data/eric/random.json\", \"w\") as outfile:\n",
    "    json.dump(randomD, outfile)"
   ]
  }
 ],
 "metadata": {
  "kernelspec": {
   "display_name": "codellama",
   "language": "python",
   "name": "python3"
  },
  "language_info": {
   "codemirror_mode": {
    "name": "ipython",
    "version": 3
   },
   "file_extension": ".py",
   "mimetype": "text/x-python",
   "name": "python",
   "nbconvert_exporter": "python",
   "pygments_lexer": "ipython3",
   "version": "3.9.13"
  }
 },
 "nbformat": 4,
 "nbformat_minor": 2
}
