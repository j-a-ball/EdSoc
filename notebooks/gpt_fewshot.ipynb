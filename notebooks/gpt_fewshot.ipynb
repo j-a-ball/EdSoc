{
 "cells": [
  {
   "cell_type": "code",
   "execution_count": null,
   "metadata": {},
   "outputs": [],
   "source": [
    "__author__ = \"Jon Ball\"\n",
    "__version__ = \"October 2023\""
   ]
  },
  {
   "cell_type": "code",
   "execution_count": 1,
   "id": "e678f549-77d2-45ec-bd45-aa13102df21e",
   "metadata": {},
   "outputs": [],
   "source": [
    "from gpt_utils import (start_chat, user_turn, system_turn)\n",
    "from langchain.embeddings import SentenceTransformerEmbeddings\n",
    "from langchain.vectorstores import Chroma\n",
    "from tqdm import tqdm\n",
    "import chromadb\n",
    "import jinja2\n",
    "import torch\n",
    "import random\n",
    "import json"
   ]
  },
  {
   "cell_type": "code",
   "execution_count": null,
   "metadata": {},
   "outputs": [],
   "source": [
    "# Set random seed \n",
    "random.seed(42)\n",
    "torch.manual_seed(42)"
   ]
  },
  {
   "cell_type": "code",
   "execution_count": 2,
   "id": "e36ab769-8ccd-493f-9328-c4d3b8eb78f8",
   "metadata": {},
   "outputs": [],
   "source": [
    "model_name = \"Muennighoff/SGPT-125M-weightedmean-nli-bitfit\"\n",
    "model_kwargs = {\"device\": \"cpu\"}\n",
    "encode_kwargs = {\"normalize_embeddings\": True}\n",
    "embedding = SentenceTransformerEmbeddings(\n",
    "    model_name=model_name,\n",
    "    model_kwargs=model_kwargs,\n",
    "    encode_kwargs=encode_kwargs\n",
    ")"
   ]
  },
  {
   "cell_type": "code",
   "execution_count": 3,
   "id": "67160e06-17cf-498b-8bdd-ebd71e94fbf0",
   "metadata": {},
   "outputs": [],
   "source": [
    "persistent_client = chromadb.PersistentClient(path=\"../chroma\")\n",
    "#\n",
    "manualDB = Chroma(\n",
    "    client=persistent_client,\n",
    "    collection_name=\"manual\",\n",
    "    embedding_function=embedding,\n",
    "    )\n",
    "#\n",
    "gpt4DB = Chroma(\n",
    "    client=persistent_client,\n",
    "    collection_name=\"gpt4\",\n",
    "    embedding_function=embedding,\n",
    "    )"
   ]
  },
  {
   "cell_type": "code",
   "execution_count": 4,
   "id": "267d7b78-113b-4ae3-970e-0d221421c92a",
   "metadata": {},
   "outputs": [
    {
     "name": "stdout",
     "output_type": "stream",
     "text": [
      "90 examples loaded. GPT-4 will generate output labels for each example, to be used in few-shot prompting with CodeLLaMA.\n"
     ]
    }
   ],
   "source": [
    "with open(\"../prompts/examples/gpt4D.json\", \"r\") as infile:\n",
    "    gpt4D = json.load(infile)\n",
    "print(f\"{len(gpt4D)} examples loaded. GPT-4 will generate output labels for each example, to be used in few-shot prompting with CodeLLaMA.\")"
   ]
  },
  {
   "cell_type": "code",
   "execution_count": 5,
   "id": "0c0f9095-7abd-45bb-b1c7-9c9518ee390f",
   "metadata": {},
   "outputs": [
    {
     "name": "stdout",
     "output_type": "stream",
     "text": [
      "Input: {'id': 'EJ344485', 'title': 'The Impact of Financial and Cultural Resources on Educational Attainment in the Netherlands.', 'author': ['De Graaf, Paul M.'], 'description': \"Using data from a 1977 survey conducted in the Netherlands, where education is almost completely free, this study shows that the degree to which parents' socioeconomic status influences educational attainment has disappeared since 1950. During the same time period, however, influence on educational attainment of access to cultural resources has increased. (Author/JDH)\", 'subject': ['Cultural Opportunities', 'Educational Attainment', 'Foreign Countries', 'Higher Education', 'Social Class', 'Socioeconomic Influences'], 'publicationtype': ['Journal Articles', 'Reports - Research'], 'publicationdateyear': 1986, 'language': ['English'], 'peerreviewed': 'T'}\n",
      "{\"id\": \"EJ502246\", \"title\": \"Social Capital and the Reproduction of Inequality: Information Networks among Mexican-Origin High School Students.\", \"author\": [\"Stanton-Salazar, Ricardo D.\", \"Dornbusch, Sanford M.\"], \"description\": \"Reports on a study of social relationships, parental characteristics, academic achievement, and occupational expectations among 205 secondary-level Mexican-American high school students in California. Suggests that bilingualism may provide special advantages in obtaining the institutional support necessary for school success and social mobility. (CFR)\", \"subject\": [\"Academic Achievement\", \"Bilingual Students\", \"Bilingualism\", \"Career Choice\", \"Cross Cultural Studies\", \"Cultural Interrelationships\", \"Foreign Countries\", \"Individual Power\", \"Mexican Americans\", \"Parent Influence\", \"Second Language Learning\", \"Secondary Education\", \"Social Capital\", \"Social Class\", \"Social Mobility\", \"Sociocultural Patterns\", \"Socioeconomic Influences\", \"Socioeconomic Status\", \"Student Characteristics\"], \"publicationtype\": [\"Reports - Research\", \"Journal Articles\"], \"publicationdateyear\": 1995, \"language\": [\"English\"], \"issn\": [\"ISSN-0038-0407\"], \"peerreviewed\": \"T\"} \n",
      " {\"quantitative\": true, \"qualitative\": false, \"primary/secondary\": true, \"tertiary\": false, \"inequality\": true, \"nonstructural\": false, \"culture\": false, \"school\": false, \"state\": false, \"labor\": false, \"comparative\": false, \"methods\": false}\n",
      "{\"id\": \"EJ473710\", \"title\": \"Maximally Maintained Inequality: Expansion, Reform, and Opportunity in Irish Education, 1921-75.\", \"author\": [\"Raftery, Adrian E.\", \"Hout, Michael\"], \"description\": \"Reports on a study of educational equity in Irish secondary schools. Finds that, although overall class differences in educational attainment declined, barriers based on socioeconomic status were not removed. Presents alternative reform efforts that might have been more effective without costing more money. (CFR)\", \"subject\": [\"Access to Education\", \"Catholic Schools\", \"Educational Attainment\", \"Educational Change\", \"Educational Equity (Finance)\", \"Educational History\", \"Equal Education\", \"Foreign Countries\", \"Government School Relationship\", \"Secondary Education\", \"Socioeconomic Influences\", \"Student Characteristics\"], \"publicationtype\": [\"Reports - Research\", \"Journal Articles\"], \"publicationdateyear\": 1993, \"language\": [\"English\"], \"issn\": [\"ISSN-0038-0407\"], \"peerreviewed\": \"T\"} \n",
      " {\"quantitative\": true, \"qualitative\": false, \"primary/secondary\": true, \"tertiary\": false, \"inequality\": true, \"nonstructural\": false, \"culture\": true, \"school\": true, \"state\": false, \"labor\": false, \"comparative\": false, \"methods\": false}\n"
     ]
    }
   ],
   "source": [
    "input = list(gpt4D.items())[0][1][\"input\"]\n",
    "print(\"Input:\", input)\n",
    "for doc in manualDB.similarity_search(input, 2):\n",
    "    print(doc.metadata[\"input\"], \"\\n\", doc.metadata[\"output\"].strip())"
   ]
  },
  {
   "cell_type": "code",
   "execution_count": 6,
   "id": "83be9b5a-5e25-4e8a-ac83-d4c66963fc8c",
   "metadata": {},
   "outputs": [],
   "source": [
    "class jinjaLoader():\n",
    "    def __init__(self, template_dir, template_jinja):\n",
    "        self.templateLoader = jinja2.FileSystemLoader(searchpath=template_dir)\n",
    "        self.templateEnv = jinja2.Environment( loader=self.templateLoader )\n",
    "        self.template = self.templateEnv.get_template( template_jinja )\n",
    "\n",
    "    def render(self, templateVars):\n",
    "        return self.template.render( templateVars )"
   ]
  },
  {
   "cell_type": "code",
   "execution_count": 7,
   "id": "33e0c695-c088-4155-8cee-fea6406c80b0",
   "metadata": {},
   "outputs": [],
   "source": [
    "jinjitsu = jinjaLoader(\"../prompts\", \"fewshot.prompt\")"
   ]
  },
  {
   "cell_type": "code",
   "execution_count": 8,
   "id": "4f84c6aa-34f3-4cf6-8368-dd799e2b527c",
   "metadata": {},
   "outputs": [
    {
     "name": "stderr",
     "output_type": "stream",
     "text": [
      "100%|██████████| 90/90 [12:07<00:00,  8.08s/it]\n"
     ]
    }
   ],
   "source": [
    "outputs = []\n",
    "for k, v in tqdm(gpt4D.items()):\n",
    "    # Isolate input\n",
    "    input3 = v[\"input\"]\n",
    "    # Pull 2 most similar docs for few-shot examples\n",
    "    similar_docs = manualDB.similarity_search(input, 2)\n",
    "    # Load the vars\n",
    "    input1 = similar_docs[0].metadata[\"input\"]\n",
    "    output1 = similar_docs[0].metadata[\"output\"]\n",
    "    input2 = similar_docs[1].metadata[\"input\"]\n",
    "    output2 = similar_docs[1].metadata[\"output\"]\n",
    "    templateVars = {\"input1\": input1, \"output1\": output1, \"input2\": input2, \"output2\": output2, \"input3\": input3, \"output3\": \"\"}\n",
    "    PROMPT = jinjitsu.render(templateVars)\n",
    "    # Start the chat\n",
    "    chat = start_chat(\"Research assistant tasked with labeling articles published in Sociology of Education\")\n",
    "    chat = user_turn(chat, PROMPT)\n",
    "    chat = system_turn(chat)\n",
    "    # Write the output\n",
    "    gpt4D[k] = {\"input\": input3, \"output\": chat[-1][\"content\"]}\n",
    "    outputs.append(chat[-1][\"content\"])"
   ]
  },
  {
   "cell_type": "code",
   "execution_count": 9,
   "id": "0dbb7e1d-3ab4-47a3-bb20-e65ecf9218c7",
   "metadata": {},
   "outputs": [],
   "source": [
    "for k, v in gpt4D.items():\n",
    "    if not v[\"output\"]:\n",
    "        print(k)"
   ]
  },
  {
   "cell_type": "code",
   "execution_count": 10,
   "id": "aecd0983-225b-4402-876c-3d1805a5f47b",
   "metadata": {},
   "outputs": [],
   "source": [
    "# Save\n",
    "with open(\"../prompts/examples/gpt4D.json\", \"w\") as outfile:\n",
    "    json.dump(gpt4D, outfile)"
   ]
  }
 ],
 "metadata": {
  "kernelspec": {
   "display_name": "codellama",
   "language": "python",
   "name": "python3"
  },
  "language_info": {
   "codemirror_mode": {
    "name": "ipython",
    "version": 3
   },
   "file_extension": ".py",
   "mimetype": "text/x-python",
   "name": "python",
   "nbconvert_exporter": "python",
   "pygments_lexer": "ipython3",
   "version": "3.11.5"
  }
 },
 "nbformat": 4,
 "nbformat_minor": 5
}
