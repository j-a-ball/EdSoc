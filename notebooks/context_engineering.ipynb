{
 "cells": [
  {
   "cell_type": "code",
   "execution_count": 1,
   "metadata": {},
   "outputs": [],
   "source": [
    "__author__ = \"Jon Ball\"\n",
    "__version__ = \"October 2023\""
   ]
  },
  {
   "cell_type": "code",
   "execution_count": 2,
   "id": "2723d692-a1d0-417f-8adb-075dd1519fdc",
   "metadata": {},
   "outputs": [],
   "source": [
    "from langchain.embeddings import SentenceTransformerEmbeddings\n",
    "from langchain.vectorstores import Chroma\n",
    "import chromadb\n",
    "from transformers import AutoTokenizer\n",
    "from tqdm import tqdm\n",
    "import numpy as np\n",
    "import torch\n",
    "import random\n",
    "import jinja2\n",
    "import json"
   ]
  },
  {
   "cell_type": "code",
   "execution_count": 3,
   "metadata": {},
   "outputs": [],
   "source": [
    "# Set random seed \n",
    "random.seed(42)\n",
    "_ = torch.manual_seed(42)"
   ]
  },
  {
   "cell_type": "code",
   "execution_count": 4,
   "id": "60ee192d",
   "metadata": {},
   "outputs": [],
   "source": [
    "journals = [\"se\", \"aje\", \"aerj\", \"asr\", \"ajs\", \"bjse\", \"isse\", \"random\"]"
   ]
  },
  {
   "cell_type": "code",
   "execution_count": 5,
   "id": "585e6a41",
   "metadata": {},
   "outputs": [],
   "source": [
    "# load local tokenizer\n",
    "tokenizer = AutoTokenizer.from_pretrained(\"codellama/CodeLlama-7b-Instruct-hf\")"
   ]
  },
  {
   "cell_type": "code",
   "execution_count": 6,
   "id": "2ee3c34a",
   "metadata": {},
   "outputs": [],
   "source": [
    "model_name = \"Muennighoff/SGPT-125M-weightedmean-nli-bitfit\"\n",
    "model_kwargs = {\"device\": \"cpu\"}\n",
    "encode_kwargs = {\"normalize_embeddings\": True}\n",
    "embedding = SentenceTransformerEmbeddings(\n",
    "    model_name=model_name,\n",
    "    model_kwargs=model_kwargs,\n",
    "    encode_kwargs=encode_kwargs\n",
    ")"
   ]
  },
  {
   "cell_type": "code",
   "execution_count": 7,
   "id": "40512cd7",
   "metadata": {},
   "outputs": [],
   "source": [
    "# Access local chroma client\n",
    "persistent_client = chromadb.PersistentClient(path=\"../chroma\")\n",
    "# Vector db of 10 hand-labeled examples\n",
    "manualDB = Chroma(\n",
    "    client=persistent_client,\n",
    "    collection_name=\"manual\",\n",
    "    embedding_function=embedding,\n",
    "    )\n",
    "# Vector db of 90 examples labeled by GPT-4\n",
    "gpt4DB = Chroma(\n",
    "    client=persistent_client,\n",
    "    collection_name=\"gpt4\",\n",
    "    embedding_function=embedding,\n",
    "    )"
   ]
  },
  {
   "cell_type": "markdown",
   "id": "82851e49",
   "metadata": {},
   "source": [
    "LLaMA2-Code has a functional context length of 16k tokens."
   ]
  },
  {
   "cell_type": "markdown",
   "id": "02d476e7",
   "metadata": {},
   "source": [
    "## Prompt Lengths"
   ]
  },
  {
   "cell_type": "code",
   "execution_count": 8,
   "id": "217a348e-5266-47af-819c-27a8d53b4b6d",
   "metadata": {},
   "outputs": [],
   "source": [
    "class jinjaLoader():\n",
    "    # jinja2 template renderer\n",
    "    def __init__(self, template_dir, template_file):\n",
    "        self.templateLoader = jinja2.FileSystemLoader(searchpath=template_dir)\n",
    "        self.templateEnv = jinja2.Environment( loader=self.templateLoader )\n",
    "        self.template = self.templateEnv.get_template( template_file )\n",
    "\n",
    "    def render(self, templateVars):\n",
    "        return self.template.render( templateVars )"
   ]
  },
  {
   "cell_type": "code",
   "execution_count": 9,
   "id": "abb05b8c-4c6a-4c85-9a74-d331796b3ad4",
   "metadata": {},
   "outputs": [],
   "source": [
    "jinjitsu = jinjaLoader(\"../prompts\", \"fewshot.prompt\")"
   ]
  },
  {
   "cell_type": "code",
   "execution_count": 10,
   "metadata": {},
   "outputs": [],
   "source": [
    "def prompt_len(n_examples):\n",
    "    for journal in journals:\n",
    "        prompt_lens = []\n",
    "        path = f\"../data/eric/{journal}.json\"\n",
    "        with open(path, \"r\") as infile:\n",
    "            d = json.load(infile)\n",
    "        records = d[\"response\"][\"docs\"]\n",
    "        for rec in tqdm(records):\n",
    "            input = str(rec)\n",
    "            # Pull most similar manually labeled doc\n",
    "            examples = [ex.metadata for ex in manualDB.similarity_search(input, 1)]\n",
    "            if n_examples > 1:\n",
    "                # Pull most similar GPT-4 labeled docs\n",
    "                examples += [ex.metadata for ex in gpt4DB.similarity_search(input, n_examples-1)]\n",
    "            templateVars = {\n",
    "                \"examples\": examples,\n",
    "                \"input\": input, \n",
    "                \"output\": \"\"\n",
    "                }\n",
    "            PROMPT = jinjitsu.render(templateVars)\n",
    "            prompt_lens.append(len(tokenizer.tokenize(PROMPT)))\n",
    "        print(f\"Journal: {journal.upper()}, {len(records)} records\")\n",
    "        print(f\"Mean: {np.mean(prompt_lens)} | Std: {np.std(prompt_lens)} | Max: {np.max(prompt_lens)} | Min: {np.min(prompt_lens)}\", \"\\n\")"
   ]
  },
  {
   "cell_type": "markdown",
   "id": "de329f52",
   "metadata": {},
   "source": [
    "### Average one-shot prompt length in tokens for each journal (/w RAG):"
   ]
  },
  {
   "cell_type": "code",
   "execution_count": 11,
   "id": "cdc05f4b",
   "metadata": {},
   "outputs": [
    {
     "name": "stderr",
     "output_type": "stream",
     "text": [
      "  0%|          | 0/1035 [00:00<?, ?it/s]"
     ]
    },
    {
     "name": "stderr",
     "output_type": "stream",
     "text": [
      "100%|██████████| 1035/1035 [01:09<00:00, 14.85it/s]\n"
     ]
    },
    {
     "name": "stdout",
     "output_type": "stream",
     "text": [
      "Journal: SE, 1035 records\n",
      "Mean: 1396.9942028985506 | Std: 168.62513083464847 | Max: 1931 | Min: 1129 \n",
      "\n"
     ]
    },
    {
     "name": "stderr",
     "output_type": "stream",
     "text": [
      "100%|██████████| 789/789 [00:47<00:00, 16.58it/s]\n"
     ]
    },
    {
     "name": "stdout",
     "output_type": "stream",
     "text": [
      "Journal: AJE, 789 records\n",
      "Mean: 1445.8022813688212 | Std: 166.52439487530037 | Max: 1926 | Min: 1197 \n",
      "\n"
     ]
    },
    {
     "name": "stderr",
     "output_type": "stream",
     "text": [
      "100%|██████████| 1912/1912 [01:42<00:00, 18.58it/s]\n"
     ]
    },
    {
     "name": "stdout",
     "output_type": "stream",
     "text": [
      "Journal: AERJ, 1912 records\n",
      "Mean: 1407.5261506276152 | Std: 160.29819997264798 | Max: 1913 | Min: 1099 \n",
      "\n"
     ]
    },
    {
     "name": "stderr",
     "output_type": "stream",
     "text": [
      "100%|██████████| 350/350 [00:18<00:00, 18.70it/s]\n"
     ]
    },
    {
     "name": "stdout",
     "output_type": "stream",
     "text": [
      "Journal: ASR, 350 records\n",
      "Mean: 1341.4714285714285 | Std: 145.04788582972682 | Max: 1774 | Min: 1113 \n",
      "\n"
     ]
    },
    {
     "name": "stderr",
     "output_type": "stream",
     "text": [
      "100%|██████████| 333/333 [00:16<00:00, 19.59it/s]\n"
     ]
    },
    {
     "name": "stdout",
     "output_type": "stream",
     "text": [
      "Journal: AJS, 333 records\n",
      "Mean: 1264.6606606606606 | Std: 53.20685043203422 | Max: 1417 | Min: 1125 \n",
      "\n"
     ]
    },
    {
     "name": "stderr",
     "output_type": "stream",
     "text": [
      "100%|██████████| 1223/1223 [01:06<00:00, 18.41it/s]\n"
     ]
    },
    {
     "name": "stdout",
     "output_type": "stream",
     "text": [
      "Journal: BJSE, 1223 records\n",
      "Mean: 1525.9950940310712 | Std: 119.5487152388556 | Max: 2357 | Min: 1177 \n",
      "\n"
     ]
    },
    {
     "name": "stderr",
     "output_type": "stream",
     "text": [
      "100%|██████████| 386/386 [00:21<00:00, 17.59it/s]\n"
     ]
    },
    {
     "name": "stdout",
     "output_type": "stream",
     "text": [
      "Journal: ISSE, 386 records\n",
      "Mean: 1552.658031088083 | Std: 103.77405283460428 | Max: 1872 | Min: 1251 \n",
      "\n"
     ]
    },
    {
     "name": "stderr",
     "output_type": "stream",
     "text": [
      "100%|██████████| 1022/1022 [00:56<00:00, 18.19it/s]"
     ]
    },
    {
     "name": "stdout",
     "output_type": "stream",
     "text": [
      "Journal: RANDOM, 1022 records\n",
      "Mean: 1363.2093933463796 | Std: 170.18018880948733 | Max: 2069 | Min: 1099 \n",
      "\n"
     ]
    },
    {
     "name": "stderr",
     "output_type": "stream",
     "text": [
      "\n"
     ]
    }
   ],
   "source": [
    "prompt_len(1)"
   ]
  },
  {
   "cell_type": "markdown",
   "id": "c12b04ec",
   "metadata": {},
   "source": [
    "### Average two-shot prompt length in tokens for each journal (/w RAG):"
   ]
  },
  {
   "cell_type": "code",
   "execution_count": 12,
   "id": "1f59aee3",
   "metadata": {},
   "outputs": [
    {
     "name": "stderr",
     "output_type": "stream",
     "text": [
      "100%|██████████| 1035/1035 [01:54<00:00,  9.02it/s]\n"
     ]
    },
    {
     "name": "stdout",
     "output_type": "stream",
     "text": [
      "Journal: SE, 1035 records\n",
      "Mean: 1874.3826086956522 | Std: 207.34145211504472 | Max: 2736 | Min: 1549 \n",
      "\n"
     ]
    },
    {
     "name": "stderr",
     "output_type": "stream",
     "text": [
      "100%|██████████| 789/789 [01:30<00:00,  8.76it/s]\n"
     ]
    },
    {
     "name": "stdout",
     "output_type": "stream",
     "text": [
      "Journal: AJE, 789 records\n",
      "Mean: 1924.4613434727503 | Std: 197.77167408642066 | Max: 2620 | Min: 1583 \n",
      "\n"
     ]
    },
    {
     "name": "stderr",
     "output_type": "stream",
     "text": [
      "100%|██████████| 1912/1912 [03:37<00:00,  8.80it/s]\n"
     ]
    },
    {
     "name": "stdout",
     "output_type": "stream",
     "text": [
      "Journal: AERJ, 1912 records\n",
      "Mean: 1881.0475941422594 | Std: 187.48371849663323 | Max: 2503 | Min: 1501 \n",
      "\n"
     ]
    },
    {
     "name": "stderr",
     "output_type": "stream",
     "text": [
      "100%|██████████| 350/350 [00:40<00:00,  8.66it/s]\n"
     ]
    },
    {
     "name": "stdout",
     "output_type": "stream",
     "text": [
      "Journal: ASR, 350 records\n",
      "Mean: 1816.8771428571429 | Std: 177.61684055567366 | Max: 2510 | Min: 1557 \n",
      "\n"
     ]
    },
    {
     "name": "stderr",
     "output_type": "stream",
     "text": [
      "100%|██████████| 333/333 [00:42<00:00,  7.92it/s]\n"
     ]
    },
    {
     "name": "stdout",
     "output_type": "stream",
     "text": [
      "Journal: AJS, 333 records\n",
      "Mean: 1721.3783783783783 | Std: 106.62133502285099 | Max: 2118 | Min: 1500 \n",
      "\n"
     ]
    },
    {
     "name": "stderr",
     "output_type": "stream",
     "text": [
      "100%|██████████| 1223/1223 [02:21<00:00,  8.67it/s]\n"
     ]
    },
    {
     "name": "stdout",
     "output_type": "stream",
     "text": [
      "Journal: BJSE, 1223 records\n",
      "Mean: 2009.5486508585445 | Std: 155.69145445531694 | Max: 2718 | Min: 1624 \n",
      "\n"
     ]
    },
    {
     "name": "stderr",
     "output_type": "stream",
     "text": [
      "100%|██████████| 386/386 [00:44<00:00,  8.69it/s]\n"
     ]
    },
    {
     "name": "stdout",
     "output_type": "stream",
     "text": [
      "Journal: ISSE, 386 records\n",
      "Mean: 2026.6528497409327 | Std: 127.34146378385451 | Max: 2411 | Min: 1675 \n",
      "\n"
     ]
    },
    {
     "name": "stderr",
     "output_type": "stream",
     "text": [
      "100%|██████████| 1022/1022 [01:55<00:00,  8.86it/s]"
     ]
    },
    {
     "name": "stdout",
     "output_type": "stream",
     "text": [
      "Journal: RANDOM, 1022 records\n",
      "Mean: 1844.1409001956947 | Std: 202.57372292462293 | Max: 2595 | Min: 1477 \n",
      "\n"
     ]
    },
    {
     "name": "stderr",
     "output_type": "stream",
     "text": [
      "\n"
     ]
    }
   ],
   "source": [
    "prompt_len(2)"
   ]
  },
  {
   "cell_type": "markdown",
   "metadata": {},
   "source": [
    "### Average three-shot prompt length in tokens for each journal (/w RAG):"
   ]
  },
  {
   "cell_type": "code",
   "execution_count": 13,
   "metadata": {},
   "outputs": [
    {
     "name": "stderr",
     "output_type": "stream",
     "text": [
      "100%|██████████| 1035/1035 [01:59<00:00,  8.68it/s]\n"
     ]
    },
    {
     "name": "stdout",
     "output_type": "stream",
     "text": [
      "Journal: SE, 1035 records\n",
      "Mean: 2355.710144927536 | Std: 241.23078340722608 | Max: 3329 | Min: 1920 \n",
      "\n"
     ]
    },
    {
     "name": "stderr",
     "output_type": "stream",
     "text": [
      "100%|██████████| 789/789 [01:33<00:00,  8.47it/s]\n"
     ]
    },
    {
     "name": "stdout",
     "output_type": "stream",
     "text": [
      "Journal: AJE, 789 records\n",
      "Mean: 2415.793409378961 | Std: 231.03918904964112 | Max: 3143 | Min: 1995 \n",
      "\n"
     ]
    },
    {
     "name": "stderr",
     "output_type": "stream",
     "text": [
      "100%|██████████| 1912/1912 [03:41<00:00,  8.65it/s]\n"
     ]
    },
    {
     "name": "stdout",
     "output_type": "stream",
     "text": [
      "Journal: AERJ, 1912 records\n",
      "Mean: 2350.9680962343095 | Std: 220.7690616564291 | Max: 3141 | Min: 1893 \n",
      "\n"
     ]
    },
    {
     "name": "stderr",
     "output_type": "stream",
     "text": [
      "100%|██████████| 350/350 [00:42<00:00,  8.20it/s]\n"
     ]
    },
    {
     "name": "stdout",
     "output_type": "stream",
     "text": [
      "Journal: ASR, 350 records\n",
      "Mean: 2296.14 | Std: 209.4781962059877 | Max: 3090 | Min: 1979 \n",
      "\n"
     ]
    },
    {
     "name": "stderr",
     "output_type": "stream",
     "text": [
      "100%|██████████| 333/333 [00:37<00:00,  8.96it/s]\n"
     ]
    },
    {
     "name": "stdout",
     "output_type": "stream",
     "text": [
      "Journal: AJS, 333 records\n",
      "Mean: 2179.6576576576576 | Std: 142.42303619906113 | Max: 2681 | Min: 1907 \n",
      "\n"
     ]
    },
    {
     "name": "stderr",
     "output_type": "stream",
     "text": [
      "100%|██████████| 1223/1223 [02:22<00:00,  8.61it/s]\n"
     ]
    },
    {
     "name": "stdout",
     "output_type": "stream",
     "text": [
      "Journal: BJSE, 1223 records\n",
      "Mean: 2487.085854456255 | Std: 181.9066503011347 | Max: 3179 | Min: 2050 \n",
      "\n"
     ]
    },
    {
     "name": "stderr",
     "output_type": "stream",
     "text": [
      "100%|██████████| 386/386 [00:45<00:00,  8.55it/s]\n"
     ]
    },
    {
     "name": "stdout",
     "output_type": "stream",
     "text": [
      "Journal: ISSE, 386 records\n",
      "Mean: 2513.5259067357515 | Std: 168.30473103707692 | Max: 3107 | Min: 2131 \n",
      "\n"
     ]
    },
    {
     "name": "stderr",
     "output_type": "stream",
     "text": [
      "100%|██████████| 1022/1022 [01:56<00:00,  8.76it/s]"
     ]
    },
    {
     "name": "stdout",
     "output_type": "stream",
     "text": [
      "Journal: RANDOM, 1022 records\n",
      "Mean: 2315.8796477495107 | Std: 226.3151349553457 | Max: 3155 | Min: 1915 \n",
      "\n"
     ]
    },
    {
     "name": "stderr",
     "output_type": "stream",
     "text": [
      "\n"
     ]
    }
   ],
   "source": [
    "prompt_len(3)"
   ]
  },
  {
   "cell_type": "markdown",
   "metadata": {},
   "source": [
    "### Average four-shot prompt length in tokens for each journal (/w RAG):"
   ]
  },
  {
   "cell_type": "code",
   "execution_count": 14,
   "metadata": {},
   "outputs": [
    {
     "name": "stderr",
     "output_type": "stream",
     "text": [
      "100%|██████████| 1035/1035 [01:58<00:00,  8.70it/s]\n"
     ]
    },
    {
     "name": "stdout",
     "output_type": "stream",
     "text": [
      "Journal: SE, 1035 records\n",
      "Mean: 2837.737198067633 | Std: 263.31329316127244 | Max: 3753 | Min: 2321 \n",
      "\n"
     ]
    },
    {
     "name": "stderr",
     "output_type": "stream",
     "text": [
      "100%|██████████| 789/789 [01:32<00:00,  8.56it/s]\n"
     ]
    },
    {
     "name": "stdout",
     "output_type": "stream",
     "text": [
      "Journal: AJE, 789 records\n",
      "Mean: 2901.71989860583 | Std: 254.6127880921651 | Max: 3607 | Min: 2397 \n",
      "\n"
     ]
    },
    {
     "name": "stderr",
     "output_type": "stream",
     "text": [
      "100%|██████████| 1912/1912 [03:44<00:00,  8.53it/s]\n"
     ]
    },
    {
     "name": "stdout",
     "output_type": "stream",
     "text": [
      "Journal: AERJ, 1912 records\n",
      "Mean: 2825.0700836820083 | Std: 245.35672796679208 | Max: 3663 | Min: 2283 \n",
      "\n"
     ]
    },
    {
     "name": "stderr",
     "output_type": "stream",
     "text": [
      "100%|██████████| 350/350 [00:40<00:00,  8.57it/s]\n"
     ]
    },
    {
     "name": "stdout",
     "output_type": "stream",
     "text": [
      "Journal: ASR, 350 records\n",
      "Mean: 2771.614285714286 | Std: 229.97875012749347 | Max: 3554 | Min: 2402 \n",
      "\n"
     ]
    },
    {
     "name": "stderr",
     "output_type": "stream",
     "text": [
      "100%|██████████| 333/333 [00:37<00:00,  8.83it/s]\n"
     ]
    },
    {
     "name": "stdout",
     "output_type": "stream",
     "text": [
      "Journal: AJS, 333 records\n",
      "Mean: 2647.612612612613 | Std: 172.41814027583425 | Max: 3210 | Min: 2331 \n",
      "\n"
     ]
    },
    {
     "name": "stderr",
     "output_type": "stream",
     "text": [
      "100%|██████████| 1223/1223 [02:23<00:00,  8.51it/s]\n"
     ]
    },
    {
     "name": "stdout",
     "output_type": "stream",
     "text": [
      "Journal: BJSE, 1223 records\n",
      "Mean: 2970.773507767784 | Std: 211.08485941779585 | Max: 3795 | Min: 2495 \n",
      "\n"
     ]
    },
    {
     "name": "stderr",
     "output_type": "stream",
     "text": [
      "100%|██████████| 386/386 [00:47<00:00,  8.05it/s]\n"
     ]
    },
    {
     "name": "stdout",
     "output_type": "stream",
     "text": [
      "Journal: ISSE, 386 records\n",
      "Mean: 2997.5932642487046 | Std: 196.21030764232538 | Max: 3720 | Min: 2563 \n",
      "\n"
     ]
    },
    {
     "name": "stderr",
     "output_type": "stream",
     "text": [
      "100%|██████████| 1022/1022 [02:07<00:00,  8.03it/s]"
     ]
    },
    {
     "name": "stdout",
     "output_type": "stream",
     "text": [
      "Journal: RANDOM, 1022 records\n",
      "Mean: 2791.8972602739727 | Std: 248.20198479601603 | Max: 3688 | Min: 2323 \n",
      "\n"
     ]
    },
    {
     "name": "stderr",
     "output_type": "stream",
     "text": [
      "\n"
     ]
    }
   ],
   "source": [
    "prompt_len(4)"
   ]
  },
  {
   "cell_type": "markdown",
   "metadata": {},
   "source": [
    "### Average five-shot prompt length in tokens for each journal (/w RAG):"
   ]
  },
  {
   "cell_type": "code",
   "execution_count": 15,
   "metadata": {},
   "outputs": [
    {
     "name": "stderr",
     "output_type": "stream",
     "text": [
      "100%|██████████| 1035/1035 [02:01<00:00,  8.51it/s]\n"
     ]
    },
    {
     "name": "stdout",
     "output_type": "stream",
     "text": [
      "Journal: SE, 1035 records\n",
      "Mean: 3324.623188405797 | Std: 287.98050967912997 | Max: 4500 | Min: 2786 \n",
      "\n"
     ]
    },
    {
     "name": "stderr",
     "output_type": "stream",
     "text": [
      "100%|██████████| 789/789 [01:30<00:00,  8.71it/s]\n"
     ]
    },
    {
     "name": "stdout",
     "output_type": "stream",
     "text": [
      "Journal: AJE, 789 records\n",
      "Mean: 3383.493029150824 | Std: 282.39425651224406 | Max: 4255 | Min: 2802 \n",
      "\n"
     ]
    },
    {
     "name": "stderr",
     "output_type": "stream",
     "text": [
      "100%|██████████| 1912/1912 [03:36<00:00,  8.81it/s]\n"
     ]
    },
    {
     "name": "stdout",
     "output_type": "stream",
     "text": [
      "Journal: AERJ, 1912 records\n",
      "Mean: 3309.470711297071 | Std: 272.30757126476175 | Max: 4237 | Min: 2680 \n",
      "\n"
     ]
    },
    {
     "name": "stderr",
     "output_type": "stream",
     "text": [
      "100%|██████████| 350/350 [00:39<00:00,  8.82it/s]\n"
     ]
    },
    {
     "name": "stdout",
     "output_type": "stream",
     "text": [
      "Journal: ASR, 350 records\n",
      "Mean: 3263.8142857142857 | Std: 256.36490136729174 | Max: 4343 | Min: 2793 \n",
      "\n"
     ]
    },
    {
     "name": "stderr",
     "output_type": "stream",
     "text": [
      "100%|██████████| 333/333 [00:38<00:00,  8.67it/s]\n"
     ]
    },
    {
     "name": "stdout",
     "output_type": "stream",
     "text": [
      "Journal: AJS, 333 records\n",
      "Mean: 3119.5495495495497 | Std: 203.76953973207063 | Max: 3834 | Min: 2709 \n",
      "\n"
     ]
    },
    {
     "name": "stderr",
     "output_type": "stream",
     "text": [
      "100%|██████████| 1223/1223 [02:23<00:00,  8.53it/s]\n"
     ]
    },
    {
     "name": "stdout",
     "output_type": "stream",
     "text": [
      "Journal: BJSE, 1223 records\n",
      "Mean: 3457.340147179068 | Std: 232.8480048785883 | Max: 4365 | Min: 2925 \n",
      "\n"
     ]
    },
    {
     "name": "stderr",
     "output_type": "stream",
     "text": [
      "100%|██████████| 386/386 [00:44<00:00,  8.63it/s]\n"
     ]
    },
    {
     "name": "stdout",
     "output_type": "stream",
     "text": [
      "Journal: ISSE, 386 records\n",
      "Mean: 3473.9093264248704 | Std: 205.10261444427738 | Max: 4187 | Min: 3049 \n",
      "\n"
     ]
    },
    {
     "name": "stderr",
     "output_type": "stream",
     "text": [
      "100%|██████████| 1022/1022 [01:56<00:00,  8.79it/s]"
     ]
    },
    {
     "name": "stdout",
     "output_type": "stream",
     "text": [
      "Journal: RANDOM, 1022 records\n",
      "Mean: 3268.6497064579257 | Std: 269.3551671335779 | Max: 4145 | Min: 2740 \n",
      "\n"
     ]
    },
    {
     "name": "stderr",
     "output_type": "stream",
     "text": [
      "\n"
     ]
    }
   ],
   "source": [
    "prompt_len(5)"
   ]
  },
  {
   "cell_type": "markdown",
   "id": "f86ad88d",
   "metadata": {},
   "source": [
    "### Correct JSON response length in tokens:"
   ]
  },
  {
   "cell_type": "code",
   "execution_count": 16,
   "id": "7be2269e",
   "metadata": {},
   "outputs": [
    {
     "name": "stdout",
     "output_type": "stream",
     "text": [
      "Length of max expected JSON output in tokens: 74\n"
     ]
    }
   ],
   "source": [
    "all_false = str({\"quantitative\": False, \"qualitative\": False, \"primary/secondary\": False, \"tertiary\": False, \"inequality\": False, \"nonstructural\": False, \"culture\": False, \"school\": False, \"state\": False, \"labor\": False, \"comparative\": False, \"methods\": False})\n",
    "print(f\"Length of max expected JSON output in tokens: {len(tokenizer.tokenize(all_false))}\")"
   ]
  }
 ],
 "metadata": {
  "kernelspec": {
   "display_name": "Python 3 (ipykernel)",
   "language": "python",
   "name": "python3"
  },
  "language_info": {
   "codemirror_mode": {
    "name": "ipython",
    "version": 3
   },
   "file_extension": ".py",
   "mimetype": "text/x-python",
   "name": "python",
   "nbconvert_exporter": "python",
   "pygments_lexer": "ipython3",
   "version": "3.11.5"
  }
 },
 "nbformat": 4,
 "nbformat_minor": 5
}
