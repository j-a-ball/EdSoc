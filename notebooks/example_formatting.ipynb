{
 "cells": [
  {
   "cell_type": "code",
   "execution_count": 1,
   "id": "6bba1beb-4f3e-46a0-9237-a6b727d2a09a",
   "metadata": {},
   "outputs": [],
   "source": [
    "import json"
   ]
  },
  {
   "cell_type": "markdown",
   "id": "e3ff76e7-9f75-4d8a-ba99-363bafe5415b",
   "metadata": {},
   "source": [
    "# TXT starter example"
   ]
  },
  {
   "cell_type": "code",
   "execution_count": 2,
   "id": "5bfb3d68-0094-4f63-9463-6df742d5412d",
   "metadata": {},
   "outputs": [],
   "source": [
    "txt_input = \"\"\"The \"Collective Mind\" at\n",
    " Work: A Decade in the Life of\n",
    " U.S. Sociology of Education\n",
    " Sociology of Education\n",
    " 86(4) 273-279\n",
    " © American Sociological Association 20 1 3\n",
    " DOI: 10.1177/0038040713503304\n",
    " http://soe.sagepub.com\n",
    " §SAGE\n",
    " Steven Brint\n",
    "\n",
    "             METHOD\n",
    " Between 1999 and 2008, 168 articles appeared in\n",
    " Sociology of Education , between 3 and 5 articles\n",
    " in each of four issues during the year. (In 2000,\n",
    " the journal published a special extra issue, which\n",
    " included essays about current thinking about key\n",
    " issues in the subdiscipline.) I coded each of the\n",
    " articles that met my criteria for inclusion in four\n",
    " ways. First, I classified the articles by methodol-\n",
    " ogy: either quantitative or qualitative. In a few\n",
    " cases, both types of methodology were equally\n",
    " prominent. I noted these articles separately. Sec-\n",
    " ond, I classified the level of education addressed\n",
    " in the article: primary/secondary or tertiary. In\n",
    " some cases, articles concerned both primary/sec-\n",
    " ondary and tertiary education. In these cases, I\n",
    " did not classify the articles. Third, I classified\n",
    " the articles into one of eight major topical catego-\n",
    " ries: (1) inequality, (2) \"nonstructural\" sources of\n",
    " achievement, (3) culture/ideology, (4) school\n",
    " organization/school effects, (5) state/politics, (6)\n",
    " labor market/labor market transitions, (7) compar-\n",
    " ative/historical analysis, and (8) methods. Finally,\n",
    " I classified articles into a more fine-grained topi-\n",
    " cal scheme of 22 categories in all. I will concen-\n",
    " trate my discussion of content on the distribution\n",
    " of articles into the eight major topical categories\n",
    " listed above. Therefore, let me elaborate the con-\n",
    " ventions that I used in coding articles into these\n",
    " categories.\n",
    " I classified the articles on the basis of the pri-\n",
    " mary emphasis in the article. Where possible, I\n",
    " tried to classify under one category only. I classi-\n",
    " fied only a handful of articles under more than one\n",
    " category, because I could not determine their pri-\n",
    " mary emphasis. I made a distinction in coding\n",
    " between the major structural bases of inequality\n",
    " in American society (i.e., social class, race/ethnic-\n",
    " ity, immigration status, and gender) and social\n",
    " structures and behaviors that vary within these\n",
    " broad strata (such as family structure or student\n",
    " work effort). I reserved the category \"nonstruc-\n",
    " tural sources of achievement\" for articles that\n",
    " took up these latter sources of variation in educa-\n",
    " tional outcomes. Thus, articles about the effects of\n",
    " work effort, drinking behavior, or obesity on stu-\n",
    " dent achievement were coded into this category,\n",
    " but articles about the effects of wealth or immigra-\n",
    " tion status on educational attainment were coded\n",
    " into the \"inequality and schools\" category.\n",
    " In this coding scheme, \"culture/ideology\"\n",
    " includes articles both on cultural influences on\n",
    " the organization of schooling and the influences\n",
    " of the organization of schooling on culture. An\n",
    " example of the former would be an article on the\n",
    " interpersonal strategies used by high-achieving\n",
    " students to mask their school achievements in set-\n",
    " tings that belittle intellectuality. An example of\n",
    " the latter would be an article on the effects of edu-\n",
    " cational attainment on attitudes about public\n",
    " affairs.\n",
    " I will not make strong claims for the accuracy\n",
    " of my coding. In some cases, other equally expert\n",
    " coders would likely have made different coding\n",
    " choices. However, many of the articles were not\n",
    " difficult to code, and I believe the measurement\n",
    " error due to coding mistakes is relatively minor.\"\"\""
   ]
  },
  {
   "cell_type": "code",
   "execution_count": 3,
   "id": "8bf5ce70-85c7-4f01-be71-bc32437f2764",
   "metadata": {},
   "outputs": [],
   "source": [
    "txt_output = {\"quantitative\": False, \"qualitative\": True, \"primary/secondary\": False, \"tertiary\": False, \"inequality\": False, \"nonstructural\": False, \"culture\": False, \"school\": False, \"state\": False, \"labor\": False, \"comparative\": False, \"methods\": True}"
   ]
  },
  {
   "cell_type": "code",
   "execution_count": 4,
   "id": "fe23ae9b-2349-4bc4-b65e-98d64bda09d2",
   "metadata": {},
   "outputs": [],
   "source": [
    "txt_example = {\"input\": txt_input, \"output\": str(txt_output)}"
   ]
  },
  {
   "cell_type": "code",
   "execution_count": 5,
   "id": "d39cdd3d-86b2-42d9-8a49-5f54a4a0d504",
   "metadata": {},
   "outputs": [],
   "source": [
    "with open(\"txt_example.json\", \"w\") as outfile:\n",
    "    json.dump(txt_example, outfile)"
   ]
  },
  {
   "cell_type": "markdown",
   "id": "39f6c8d1-83ad-46ac-a865-dc7c6bd7f273",
   "metadata": {},
   "source": [
    "# XML starter example"
   ]
  },
  {
   "cell_type": "code",
   "execution_count": 6,
   "id": "fe7cacb5-a413-482b-a7c1-6acf69d10af4",
   "metadata": {},
   "outputs": [],
   "source": [
    "xml_input = \"\"\"{\n",
    "        \"id\": \"EJ1104970\",\n",
    "        \"title\": \"Fifty Years since the Coleman Report: Rethinking the Relationship between Schools and Inequality\",\n",
    "        \"author\": [\n",
    "          \"Downey, Douglas B.\",\n",
    "          \"Condron, Dennis J.\"\n",
    "        ],\n",
    "        \"description\": \"In the half century since the 1966 Coleman Report, scholars have yet to develop a consensus regarding the relationship between schools and inequality. The Coleman Report suggested that schools play little role in generating achievement gaps, but social scientists have identified many ways in which schools provide better learning environments to advantaged children compared to disadvantaged children. As a result, a critical perspective that views schools as engines of inequality dominates contemporary sociology of education. However, an important body of empirical research challenges this critical view. To reconcile the field's main ideas with this new evidence, we propose a &quot;refraction&quot; framework, a perspective on schools and inequality guided by the assumption that schools may shape inequalities along different dimensions in different ways. From this more balanced perspective, schools might indeed reproduce or exacerbate some inequalities, but they also might compensate for others--socioeconomic disparities in cognitive skills in particular. We conclude by discussing how the mostly critical perspective on schools and inequality is costly to the field of sociology of education. [For &quot;Fifty Years since the Coleman Report: Rethinking the Relationship between Schools and Inequality,&quot; see EJ1104970.]\",\n",
    "        \"subject\": [\n",
    "          \"Equal Education\",\n",
    "          \"Social Bias\",\n",
    "          \"School Role\",\n",
    "          \"Achievement Gap\",\n",
    "          \"Socioeconomic Influences\",\n",
    "          \"Educational Sociology\",\n",
    "          \"Disadvantaged Youth\",\n",
    "          \"Minority Group Students\",\n",
    "          \"School Schedules\",\n",
    "          \"Educational History\",\n",
    "          \"Curriculum\",\n",
    "          \"Educational Research\",\n",
    "          \"Educational Policy\"\n",
    "        ],\n",
    "        \"publicationtype\": [\n",
    "          \"Journal Articles\",\n",
    "          \"Reports - Evaluative\"\n",
    "        ],\n",
    "        \"publicationdateyear\": 2016,\n",
    "        \"language\": [\n",
    "          \"English\"\n",
    "        ],\n",
    "        \"issn\": [\n",
    "          \"ISSN-0038-0407\"\n",
    "        ],\n",
    "        \"publisher\": \"SAGE Publications. 2455 Teller Road, Thousand Oaks, CA 91320. Tel: 800-818-7243; Tel: 805-499-9774; Fax: 800-583-2665; e-mail: journals@sagepub.com; Web site: http://sagepub.com\",\n",
    "        \"peerreviewed\": \"T\"\n",
    "      }\"\"\""
   ]
  },
  {
   "cell_type": "code",
   "execution_count": 7,
   "id": "f93f8917-2ad3-40aa-a55d-52daa6a7e215",
   "metadata": {},
   "outputs": [],
   "source": [
    "xml_output = {\"quantitative\": False, \"qualitative\": True, \"primary/secondary\": True, \"tertiary\": False, \"inequality\": True, \"nonstructural\": False, \"culture\": False, \"school\": False, \"state\": False, \"labor\": False, \"comparative\": False, \"methods\": False}"
   ]
  },
  {
   "cell_type": "code",
   "execution_count": 8,
   "id": "0fa449a3-1774-4fdf-a74c-6be1e7f683a7",
   "metadata": {},
   "outputs": [],
   "source": [
    "xml_example = {\"input\": xml_input, \"output\": str(xml_output)}"
   ]
  },
  {
   "cell_type": "code",
   "execution_count": 9,
   "id": "55c8b041-5e41-4e68-836e-77d509fd55ed",
   "metadata": {},
   "outputs": [],
   "source": [
    "with open(\"xml_example.json\", \"w\") as outfile:\n",
    "    json.dump(xml_example, outfile)"
   ]
  }
 ],
 "metadata": {
  "kernelspec": {
   "display_name": "codellama",
   "language": "python",
   "name": "codellama"
  },
  "language_info": {
   "codemirror_mode": {
    "name": "ipython",
    "version": 3
   },
   "file_extension": ".py",
   "mimetype": "text/x-python",
   "name": "python",
   "nbconvert_exporter": "python",
   "pygments_lexer": "ipython3",
   "version": "3.11.5"
  }
 },
 "nbformat": 4,
 "nbformat_minor": 5
}
