{
 "cells": [
  {
   "cell_type": "code",
   "execution_count": 1,
   "id": "2723d692-a1d0-417f-8adb-075dd1519fdc",
   "metadata": {},
   "outputs": [],
   "source": [
    "from transformers import AutoTokenizer\n",
    "import matplotlib.pyplot as plt\n",
    "import numpy as np\n",
    "import jinja2\n",
    "import json\n",
    "import re\n",
    "import os"
   ]
  },
  {
   "cell_type": "code",
   "execution_count": 2,
   "id": "1822d80d-0078-465e-aaeb-03ab954b7064",
   "metadata": {},
   "outputs": [],
   "source": [
    "# {se, aje, aerj, asr, ajs, bjse, isse}.json\n",
    "path = \"../data/eric/se.json\""
   ]
  },
  {
   "cell_type": "code",
   "execution_count": 3,
   "id": "075889d4-3305-40d9-9de1-2fbd8c312a46",
   "metadata": {},
   "outputs": [
    {
     "name": "stdout",
     "output_type": "stream",
     "text": [
      "Number of files: 1035\n"
     ]
    }
   ],
   "source": [
    "with open(path, \"r\") as infile:\n",
    "    # se, aje, aerj, asr, ajs, bjse, isse - records queried using the ERIC API https://eric.ed.gov/?api\n",
    "    d = json.load(infile)\n",
    "records = d[\"response\"][\"docs\"]\n",
    "print(f\"Number of files: {len(records)}\")"
   ]
  },
  {
   "cell_type": "markdown",
   "id": "44295819-04ed-4959-94cd-604d3080f81a",
   "metadata": {},
   "source": [
    "## Average xml length in tokens:"
   ]
  },
  {
   "cell_type": "code",
   "execution_count": 4,
   "id": "ea193123-3c48-45f8-9eb5-f0302384ec94",
   "metadata": {},
   "outputs": [],
   "source": [
    "# go one dir up\n",
    "llama_dir = os.path.join(os.getcwd(), \"..\", \"..\", \"codellama\", \"CodeLlama-7b-Instruct-hf\")\n",
    "tokenizer = AutoTokenizer.from_pretrained(llama_dir, local_files_only=True)"
   ]
  },
  {
   "cell_type": "code",
   "execution_count": 5,
   "id": "25dd0bd0",
   "metadata": {},
   "outputs": [
    {
     "name": "stdout",
     "output_type": "stream",
     "text": [
      "{'id': 'EJ1158833', 'title': 'Gender Differences in Context: The Impact of Track Position on Study Involvement in Flemish Secondary Education', 'author': ['Van Houtte, Mieke'], 'description': \"This study examines whether the influence of track position on study involvement is gendered and whether gender differences in study involvement according to track position are associated with school misconduct and rather poor future perspectives. Three-level analyses (HLM 6) of data gathered in 2004-2005 from 11,872 third- and fifth-grade students in 146 tracks in a representative sample of 85 secondary schools in Flanders (Belgium) confirmed the impact of tracking on boys' as well as girls' study involvement. Boys are, generally, less involved in studying than girls, and boys are more affected by track position than girls are, enlarging the gender gap in the lower tracks. In these tracks, boys are more prone to misconduct and rather poor future perspectives. Finally, girls in arts tracks are, on average, more involved in studying than girls in academic tracks, but because of their higher tendency for disruptive behavior in school, this does not show.\", 'subject': ['Gender Differences', 'Track System (Education)', 'Foreign Countries', 'Secondary School Students', 'Behavior Problems', 'Correlation', 'Grade 3', 'Grade 5', 'Elementary School Students', 'Study Habits', 'Ability Grouping', 'Academic Aspiration', 'Higher Education', 'Grade Point Average', 'Hierarchical Linear Modeling', 'Statistical Analysis', 'Questionnaires'], 'publicationtype': ['Journal Articles', 'Reports - Research'], 'publicationdateyear': 2017, 'language': ['English'], 'issn': ['ISSN-0038-0407'], 'publisher': 'SAGE Publications. 2455 Teller Road, Thousand Oaks, CA 91320. Tel: 800-818-7243; Tel: 805-499-9774; Fax: 800-583-2665; e-mail: journals@sagepub.com; Web site: http://sagepub.com', 'peerreviewed': 'T'}\n"
     ]
    }
   ],
   "source": [
    "print(str(records[0]))"
   ]
  },
  {
   "cell_type": "code",
   "execution_count": 6,
   "id": "2c7d82d0-7370-4adc-b794-a3976e6f610e",
   "metadata": {},
   "outputs": [
    {
     "name": "stdout",
     "output_type": "stream",
     "text": [
      "Mean: 349.23961352657005 | Std: 162.67792956923432 | Max: 913 | Min: 88\n"
     ]
    },
    {
     "data": {
      "text/plain": [
       "(array([ 41., 332., 315.,  14.,  44., 149., 114.,  24.,   0.,   2.]),\n",
       " array([ 88. , 170.5, 253. , 335.5, 418. , 500.5, 583. , 665.5, 748. ,\n",
       "        830.5, 913. ]),\n",
       " <BarContainer object of 10 artists>)"
      ]
     },
     "execution_count": 6,
     "metadata": {},
     "output_type": "execute_result"
    },
    {
     "data": {
      "image/png": "[encoded data removed]",
      "text/plain": [
       "<Figure size 640x480 with 1 Axes>"
      ]
     },
     "metadata": {},
     "output_type": "display_data"
    }
   ],
   "source": [
    "rec_lens = []\n",
    "for rec in records:\n",
    "    rec_lens.append(len(tokenizer.tokenize(str(rec))))\n",
    "print(f\"Mean: {np.mean(rec_lens)} | Std: {np.std(rec_lens)} | Max: {np.max(rec_lens)} | Min: {np.min(rec_lens)}\")\n",
    "plt.hist(rec_lens)"
   ]
  },
  {
   "cell_type": "markdown",
   "id": "82851e49",
   "metadata": {},
   "source": [
    "LLaMA2-Code has a functional context length of 16k tokens."
   ]
  },
  {
   "cell_type": "markdown",
   "id": "02d476e7",
   "metadata": {},
   "source": [
    "## Prompt Engineering"
   ]
  },
  {
   "cell_type": "code",
   "execution_count": 7,
   "id": "217a348e-5266-47af-819c-27a8d53b4b6d",
   "metadata": {},
   "outputs": [],
   "source": [
    "class jinjitsu():\n",
    "    def __init__(self, template_dir, template_file, exampleVars):\n",
    "        self.templateLoader = jinja2.FileSystemLoader(searchpath=template_dir)\n",
    "        self.templateEnv = jinja2.Environment( loader=self.templateLoader )\n",
    "        self.template = self.templateEnv.get_template( template_file )\n",
    "        self.example = self.template.render( exampleVars )\n",
    "\n",
    "    def render(self, templateVars):\n",
    "        return self.template.render( templateVars )"
   ]
  },
  {
   "cell_type": "code",
   "execution_count": 8,
   "id": "4133e14c-40e2-47d9-b03b-434657587310",
   "metadata": {},
   "outputs": [],
   "source": [
    "with open(\"../prompts/examples/json_example.json\", \"r\") as infile:\n",
    "        exampleVars = json.load(infile)"
   ]
  },
  {
   "cell_type": "code",
   "execution_count": 9,
   "id": "abb05b8c-4c6a-4c85-9a74-d331796b3ad4",
   "metadata": {},
   "outputs": [],
   "source": [
    "jinjaLoader = jinjitsu(\"../prompts\", \"json.jinja\", exampleVars)"
   ]
  },
  {
   "cell_type": "markdown",
   "id": "837c7918",
   "metadata": {},
   "source": [
    "### Average one-shot prompt length in tokens for each journal (w/o RAG):"
   ]
  },
  {
   "cell_type": "code",
   "execution_count": 10,
   "id": "60ee192d",
   "metadata": {},
   "outputs": [],
   "source": [
    "journals = [\"se\", \"aje\", \"aerj\", \"asr\", \"ajs\", \"bjse\", \"isse\"]"
   ]
  },
  {
   "cell_type": "code",
   "execution_count": 11,
   "id": "cdc05f4b",
   "metadata": {},
   "outputs": [
    {
     "name": "stdout",
     "output_type": "stream",
     "text": [
      "Journal: SE, 1035 records\n",
      "Mean: 2041.0 | Std: 0.0 | Max: 2041 | Min: 2041 \n",
      "\n",
      "Journal: AJE, 789 records\n",
      "Mean: 2017.0 | Std: 0.0 | Max: 2017 | Min: 2017 \n",
      "\n",
      "Journal: AERJ, 1912 records\n",
      "Mean: 1794.0 | Std: 0.0 | Max: 1794 | Min: 1794 \n",
      "\n",
      "Journal: ASR, 350 records\n",
      "Mean: 1515.0 | Std: 0.0 | Max: 1515 | Min: 1515 \n",
      "\n",
      "Journal: AJS, 333 records\n",
      "Mean: 1535.0 | Std: 0.0 | Max: 1535 | Min: 1535 \n",
      "\n",
      "Journal: BJSE, 1223 records\n",
      "Mean: 1931.0 | Std: 0.0 | Max: 1931 | Min: 1931 \n",
      "\n",
      "Journal: ISSE, 386 records\n",
      "Mean: 1824.0 | Std: 0.0 | Max: 1824 | Min: 1824 \n",
      "\n"
     ]
    }
   ],
   "source": [
    "for journal in journals:\n",
    "    prompt_lens = []\n",
    "    path = f\"../data/eric/{journal}.json\"\n",
    "    with open(path, \"r\") as infile:\n",
    "        d = json.load(infile)\n",
    "    records = d[\"response\"][\"docs\"]\n",
    "    for rec in records:\n",
    "        templateVars = {\"input\": str(rec), \"output\": \"\"}\n",
    "    PROMPT = \"\\n\".join([jinjaLoader.example, jinjaLoader.render(templateVars)])\n",
    "    prompt_lens.append(len(tokenizer.tokenize(PROMPT)))\n",
    "    print(f\"Journal: {journal.upper()}, {len(records)} records\")\n",
    "    print(f\"Mean: {np.mean(prompt_lens)} | Std: {np.std(prompt_lens)} | Max: {np.max(prompt_lens)} | Min: {np.min(prompt_lens)}\", \"\\n\")"
   ]
  },
  {
   "cell_type": "markdown",
   "id": "f86ad88d",
   "metadata": {},
   "source": [
    "### Correct JSON response length in tokens:"
   ]
  },
  {
   "cell_type": "code",
   "execution_count": 12,
   "id": "7be2269e",
   "metadata": {},
   "outputs": [
    {
     "name": "stdout",
     "output_type": "stream",
     "text": [
      "Length of max expected JSON output in tokens: 74\n"
     ]
    }
   ],
   "source": [
    "all_false = json.dumps({\"quantitative\": False, \"qualitative\": False, \"primary/secondary\": False, \"tertiary\": False, \"inequality\": False, \"nonstructural\": False, \"culture\": False, \"school\": False, \"state\": False, \"labor\": False, \"comparative\": False, \"methods\": False})\n",
    "print(f\"Length of max expected JSON output in tokens: {len(tokenizer.tokenize(all_false))}\")"
   ]
  }
 ],
 "metadata": {
  "kernelspec": {
   "display_name": "Python 3 (ipykernel)",
   "language": "python",
   "name": "python3"
  },
  "language_info": {
   "codemirror_mode": {
    "name": "ipython",
    "version": 3
   },
   "file_extension": ".py",
   "mimetype": "text/x-python",
   "name": "python",
   "nbconvert_exporter": "python",
   "pygments_lexer": "ipython3",
   "version": "3.11.5"
  }
 },
 "nbformat": 4,
 "nbformat_minor": 5
}
